{
 "cells": [
  {
   "cell_type": "markdown",
   "metadata": {},
   "source": [
    "# Logistic Regression with Synthetic Data\n",
    "\n",
    "For more explanation of logistic regression, see\n",
    "1. [Our course notes](https://jennselby.github.io/MachineLearningCourseNotes/#binomial-logistic-regression)\n",
    "1. [This scikit-learn explanation](http://scikit-learn.org/stable/modules/linear_model.html#logistic-regression)\n",
    "1. [The full scikit-learn documentation of the LogisticRegression model class](http://scikit-learn.org/stable/modules/generated/sklearn.linear_model.LogisticRegression.html)\n",
    "\n",
    "## Instructions\n",
    "0. If you haven't already, follow [the setup instructions here](https://jennselby.github.io/MachineLearningCourseNotes/#setting-up-python3) to get all necessary software installed.\n",
    "0. Read through the code in the following sections:\n",
    "  * [Data Generation](#Data-Generation)\n",
    "  * [Visualization](#Visualization)\n",
    "  * [Model Training](#Model-Training)\n",
    "  * [Prediction](#Prediction)\n",
    "0. Complete at least one of the exercise options:\n",
    "  * [Exercise Option #1 - Standard Difficulty](#Exercise-Option-#1---Standard-Difficulty)\n",
    "  * [Exercise Option #2 - Advanced Difficulty](#Exercise-Option-#2---Advanced-Difficulty)\n",
    "  * [Exercise Option #3 - Advanced Difficulty](#Exercise-Option-#3---Advanced-Difficulty)"
   ]
  },
  {
   "cell_type": "code",
   "execution_count": 1,
   "metadata": {},
   "outputs": [],
   "source": [
    "import numpy.random # for generating our dataset\n",
    "import numpy as np\n",
    "from sklearn import linear_model # for fitting our model\n",
    "\n",
    "# force numpy not to use scientific notation, to make it easier to read the numbers the program prints out\n",
    "numpy.set_printoptions(suppress=True)\n",
    "\n",
    "# to display graphs in this notebook\n",
    "%matplotlib inline\n",
    "import matplotlib.pyplot"
   ]
  },
  {
   "cell_type": "markdown",
   "metadata": {},
   "source": [
    "## Data Generation\n",
    "\n",
    "As we did in the [linear regression notebook](https://nbviewer.jupyter.org/github/jennselby/MachineLearningCourseNotes/blob/master/assets/ipynb/LinearRegression.ipynb), we will be generating some fake data.\n",
    "\n",
    "In this fake dataset, we have two types of plants.\n",
    "* Plant A tends to be taller (average 60cm) and thinner (average 8cm).\n",
    "* Plant B tends to be shorter (average 58cm) and wider (average 10cm).\n",
    "* The heights and diameters of both plants are normally distributed (they follow a bell curve).\n",
    "\n",
    "* Class 0 will represent Plant A and Class 1 will represent Plant B"
   ]
  },
  {
   "cell_type": "code",
   "execution_count": 10,
   "metadata": {},
   "outputs": [],
   "source": [
    "NUM_INPUTS = 50 # inputs per class\n",
    "PLANT_A_AVG_HEIGHT = 60.0\n",
    "PLANT_A_AVG_WIDTH = 8.0\n",
    "PLANT_B_AVG_HEIGHT = 59.0\n",
    "PLANT_B_AVG_WIDTH = 10.0\n",
    "# PLANT_C_AVG_HEIGHT = 80.0\n",
    "# PLANT_C_AVG_WIDTH = 20.0\n",
    "\n",
    "\n",
    "# Pick numbers randomly with a normal distribution centered around the averages\n",
    "\n",
    "plant_a_heights = numpy.random.normal(loc=PLANT_A_AVG_HEIGHT, size=NUM_INPUTS)\n",
    "plant_a_widths = numpy.random.normal(loc=PLANT_A_AVG_WIDTH, size=NUM_INPUTS)\n",
    "\n",
    "plant_b_heights = numpy.random.normal(loc=PLANT_B_AVG_HEIGHT, size=NUM_INPUTS)\n",
    "plant_b_widths = numpy.random.normal(loc=PLANT_B_AVG_WIDTH, size=NUM_INPUTS)\n",
    "\n",
    "# plant_c_heights = numpy.random.normal(loc=PLANT_C_AVG_HEIGHT, size=NUM_INPUTS)\n",
    "# plant_c_widths = numpy.random.normal(loc=PLANT_C_AVG_WIDTH, size=NUM_INPUTS)\n",
    "\n",
    "# this creates a 2-dimensional matrix, with heights in the first column and widths in the second\n",
    "# the first half of rows are all plants of type a and the second half are type b\n",
    "plant_inputs = list(zip(numpy.append(plant_a_heights, plant_b_heights),\n",
    "                        numpy.append(plant_a_widths, plant_b_widths)))\n",
    "\n",
    "# this is a list where the first half are 0s (representing plants of type a) and the second half are 1s (type b)\n",
    "classes = [0]*NUM_INPUTS + [1]*NUM_INPUTS\n"
   ]
  },
  {
   "cell_type": "markdown",
   "metadata": {},
   "source": [
    "## Visualization\n",
    "\n",
    "Let's visualize our dataset, so that we can better understand what it looks like."
   ]
  },
  {
   "cell_type": "code",
   "execution_count": 11,
   "metadata": {},
   "outputs": [
    {
     "data": {
      "image/png": "[encoded data removed]",
      "text/plain": [
       "<Figure size 432x288 with 1 Axes>"
      ]
     },
     "metadata": {
      "needs_background": "light"
     },
     "output_type": "display_data"
    }
   ],
   "source": [
    "# create a figure and label it\n",
    "fig = matplotlib.pyplot.figure()\n",
    "fig.suptitle('Plant Data Set')\n",
    "matplotlib.pyplot.xlabel('Height')\n",
    "matplotlib.pyplot.ylabel('Width')\n",
    "\n",
    "# put the generated points on the graph\n",
    "a_scatter = matplotlib.pyplot.scatter(plant_a_heights, plant_a_widths, c=\"red\", marker=\"o\", label='plant a')\n",
    "b_scatter = matplotlib.pyplot.scatter(plant_b_heights, plant_b_widths, c=\"blue\", marker=\"^\", label='plant b')\n",
    "c_scatter = matplotlib.pyplot.scatter(plant_c_heights, plant_c_widths, c=\"green\", marker=\"D\", label='plant C')\n",
    "\n",
    "# add a legend to explain which points are which\n",
    "matplotlib.pyplot.legend(handles=[a_scatter, b_scatter, c_scatter])\n",
    "\n",
    "# show the graph\n",
    "matplotlib.pyplot.show()"
   ]
  },
  {
   "cell_type": "markdown",
   "metadata": {},
   "source": [
    "## Model Training\n",
    "\n",
    "Next, we want to fit our logistic regression model to our dataset."
   ]
  },
  {
   "cell_type": "code",
   "execution_count": 12,
   "metadata": {},
   "outputs": [
    {
     "name": "stdout",
     "output_type": "stream",
     "text": [
      "Intercept: [36.9992188]  Coefficients: [[-0.88853034  1.77786352]]\n"
     ]
    }
   ],
   "source": [
    "model = linear_model.LogisticRegression()\n",
    "model.fit(plant_inputs, classes)\n",
    "\n",
    "print('Intercept: {0}  Coefficients: {1}'.format(model.intercept_, model.coef_))"
   ]
  },
  {
   "cell_type": "markdown",
   "metadata": {},
   "source": [
    "## Prediction\n",
    "\n",
    "Now we can make some predictions using the trained model. Note that we are generating the new data exactly the same way that we generated the training data above."
   ]
  },
  {
   "cell_type": "code",
   "execution_count": 30,
   "metadata": {
    "scrolled": true
   },
   "outputs": [
    {
     "name": "stdout",
     "output_type": "stream",
     "text": [
      "Plant A: 59.789827896556965 7.285904966485865\n",
      "Plant B: 58.454035403723886 9.947688955258492\n",
      "Class predictions: [0 1]\n",
      "Probabilities:\n",
      "[[0.97563157 0.02436843]\n",
      " [0.12861659 0.87138341]]\n"
     ]
    }
   ],
   "source": [
    "# Generate some new random values for two plants, one of each class\n",
    "new_a_height = numpy.random.normal(loc=PLANT_A_AVG_HEIGHT)\n",
    "new_a_width = numpy.random.normal(loc=PLANT_A_AVG_WIDTH)\n",
    "new_b_height = numpy.random.normal(loc=PLANT_B_AVG_HEIGHT)\n",
    "new_b_width = numpy.random.normal(loc=PLANT_B_AVG_WIDTH)\n",
    "\n",
    "# Pull the values into a matrix, because that is what the predict function wants\n",
    "inputs = [[new_a_height, new_a_width], [new_b_height, new_b_width]]\n",
    "\n",
    "# Print out the outputs for these new inputs\n",
    "print('Plant A: {0} {1}'.format(new_a_height, new_a_width))\n",
    "print('Plant B: {0} {1}'.format(new_b_height, new_b_width))\n",
    "print('Class predictions: {0}'.format(model.predict(inputs))) # guess which class\n",
    "print('Probabilities:\\n{0}'.format(model.predict_proba(inputs))) # give probability of each class"
   ]
  },
  {
   "cell_type": "markdown",
   "metadata": {},
   "source": [
    "# Exercise Option #1 - Standard Difficulty\n",
    "\n",
    "Answer the following questions. You can also use the graph below, if seeing the data visually helps you understand the data.\n",
    "1. What should we be expecting as the output for class predictions in the above cell? If the model is not giving the expected output, what are some of the reasons it might not be?\n",
    "1. How do the probabilities output by the above cell relate to the class predictions? Why do you think the model might be more or less confident in its predictions?\n",
    "1. If you change the averages in the data generation code (like PLANT_A_AVG_HEIGHT) and re-run the code, how do the predictions change, and why?\n",
    "1. Looking at the intercept and coefficient output further above, if a coefficient is negative, what has the model learned about this feature? In other words, if you took a datapoint and you increased the value of a feature that has a negative coefficient, what would you expect to happen to the probabilities the model gives this datapoint?"
   ]
  },
  {
   "cell_type": "markdown",
   "metadata": {},
   "source": [
    "\n",
    "---\n",
    "1. the class predictions are the generated \"labels\" for each class -- this is ordered by number, and should hence just be [0 1].\n",
    "2. the probabilities are ordered by the class predictions. The model would be less confident as the overlap between features increases. \n",
    "3. the closer the average heights are, the less value it has as a differentiator; thus, the model becomes less confident in it's predictions. \n",
    "4. if a coefficient is negative, it means that as that feature increases the given sample is less likely to belong to the given class -- eg. Liking garlic to being a vampire. "
   ]
  },
  {
   "cell_type": "markdown",
   "metadata": {},
   "source": [
    "# Exercise Option #2 - Advanced Difficulty\n",
    "\n",
    "The plot above is only showing the data, and not anything about what the model learned. Come up with some ideas for how to show the model fit and implement one of them in code. Remember, we are here to help if you are not sure how to write the code for your ideas!"
   ]
  },
  {
   "cell_type": "code",
   "execution_count": 31,
   "metadata": {
    "scrolled": false
   },
   "outputs": [
    {
     "data": {
      "image/png": "[encoded data removed]",
      "text/plain": [
       "<Figure size 288x216 with 1 Axes>"
      ]
     },
     "metadata": {},
     "output_type": "display_data"
    }
   ],
   "source": [
    "# Citation: documention --\n",
    "# https://scikit-learn.org/stable/auto_examples/linear_model/plot_iris_logistic.html#sphx-glr-auto-examples-linear-model-plot-iris-logistic-py\n",
    "\n",
    "\n",
    "\n",
    "X = np.asarray(plant_inputs)\n",
    "Y = np.asarray(classes)\n",
    "\n",
    "x_min, x_max = X[:, 0].min() - .5, X[:, 0].max() + .5\n",
    "y_min, y_max = X[:, 1].min() - .5, X[:, 1].max() + .5\n",
    "\n",
    "\n",
    "h = .02  # step size in the mesh\n",
    "xx, yy = np.meshgrid(np.arange(x_min, x_max, h), np.arange(y_min, y_max, h))\n",
    "Z = model.predict(np.c_[xx.ravel(), yy.ravel()])\n",
    "\n",
    "# Put the result into a color plot\n",
    "Z = Z.reshape(xx.shape)\n",
    "matplotlib.pyplot.figure(1, figsize=(4, 3))\n",
    "matplotlib.pyplot.pcolormesh(xx, yy, Z, cmap=plt.cm.Paired, shading='auto')\n",
    "\n",
    "# Plot also the training points\n",
    "matplotlib.pyplot.scatter(X[:, 0], X[:, 1], c=Y, edgecolors='k', cmap=plt.cm.Paired)\n",
    "matplotlib.pyplot.xlabel('Sepal length')\n",
    "matplotlib.pyplot.ylabel('Sepal width')\n",
    "\n",
    "matplotlib.pyplot.xlim(xx.min(), xx.max())\n",
    "matplotlib.pyplot.ylim(yy.min(), yy.max())\n",
    "matplotlib.pyplot.xticks(())\n",
    "matplotlib.pyplot.yticks(())\n",
    "\n",
    "matplotlib.pyplot.show()"
   ]
  },
  {
   "cell_type": "markdown",
   "metadata": {},
   "source": [
    "# Exercise Option #3 - Advanced Difficulty\n",
    "\n",
    "If you have more than two classes, you can use multinomial logistic regression or the one vs. rest technique, where you use a binomial logistic regression for each class that you have and decide if it is or is not in that class. Try expanding the program with a third type and implementing your own one vs. rest models. To test if this is working, compare your output to running your expanded dataset through scikit-learn, which will automatically do one vs. rest if there are more than two classes."
   ]
  },
  {
   "cell_type": "code",
   "execution_count": 18,
   "metadata": {
    "scrolled": true
   },
   "outputs": [
    {
     "name": "stdout",
     "output_type": "stream",
     "text": [
      "Class predictions: [0, 1, 2]\n",
      "Probabilities:\n",
      "[[0.90988926 0.65332565 0.00004221]\n",
      " [0.10124898 0.8599985  0.00045926]\n",
      " [0.00000006 0.00232736 0.99981018]]\n",
      "Class predictions:\n",
      "[0 1 2]\n",
      "Probabilities:\n",
      "[[0.91632884 0.08366071 0.00001045]\n",
      " [0.08912059 0.9104718  0.00040762]\n",
      " [0.         0.00012401 0.99987599]]\n"
     ]
    }
   ],
   "source": [
    "# Got significant help from Nick on this one\n",
    "\n",
    "# set average values for new class, class c\n",
    "PLANT_C_AVG_HEIGHT = 42\n",
    "PLANT_C_AVG_WIDTH = 9\n",
    "\n",
    "# generate data for class c with normal distribution around specified average values\n",
    "plant_c_heights = np.random.normal(loc=PLANT_C_AVG_HEIGHT, size=NUM_INPUTS)\n",
    "plant_c_widths = np.random.normal(loc=PLANT_C_AVG_WIDTH, size=NUM_INPUTS)\n",
    "\n",
    "# put the data into right format matrix, heights first column and widths second column\n",
    "# https://numpy.org/doc/stable/reference/generated/numpy.append.html\n",
    "plant_inputs_three = list(zip(np.append(plant_a_heights, [plant_b_heights, plant_c_heights]), np.append(plant_a_widths, [plant_b_widths, plant_c_widths])))\n",
    "\n",
    "# generate expected values, since there are three classes and we are doing one vs. rest, we have to generate three distinct arrays\n",
    "a_expected = [0]*NUM_INPUTS + [1]*NUM_INPUTS + [1]*NUM_INPUTS\n",
    "b_expected = [1]*NUM_INPUTS + [0]*NUM_INPUTS + [1]*NUM_INPUTS\n",
    "c_expected = [1]*NUM_INPUTS + [1]*NUM_INPUTS + [0]*NUM_INPUTS\n",
    "\n",
    "# make a model for class a, b, and c against rest \n",
    "model_a = linear_model.LogisticRegression() # create logistic regression model for a vs. rest \n",
    "model_a.fit(plant_inputs_three, a_expected) # fit model  \n",
    "\n",
    "model_b = linear_model.LogisticRegression() # create logistic regression model for b vs. rest \n",
    "model_b.fit(plant_inputs_three, b_expected) # fit model  \n",
    "\n",
    "model_c = linear_model.LogisticRegression() # create logistic regression model for c vs. rest \n",
    "model_c.fit(plant_inputs_three, c_expected) # fit model  \n",
    "        \n",
    "# return probabilities for multinomial logistic regression \n",
    "def one_vs_rest_proba(inputs, models):\n",
    "    probabilities = np.empty([len(inputs), len(models)]) \n",
    "    index = 0\n",
    "    for input in inputs:\n",
    "        model_index = 0\n",
    "        for model in models:\n",
    "            probabilities[index][model_index] = model.predict_proba(input.reshape(1, -1))[0][0]\n",
    "            model_index += 1\n",
    "        index += 1\n",
    "    return probabilities \n",
    "\n",
    "# return class predictions for multinomial logistic regression \n",
    "def one_vs_rest_predict(inputs, models):\n",
    "    probabilities = np.empty([len(inputs), len(models)]) \n",
    "    predictions = []\n",
    "    index = 0 \n",
    "    for input in inputs:\n",
    "        model_index = 0\n",
    "        for model in models:\n",
    "            probabilities[index][model_index] = model.predict_proba(input.reshape(1, -1))[0][0]\n",
    "            model_index += 1\n",
    "        current_highest_probability_index = 0\n",
    "        probability_index = 0\n",
    "        for probability in probabilities[index]:\n",
    "            if probability > probabilities[index][current_highest_probability_index]:\n",
    "                current_highest_probability_index = probability_index\n",
    "            probability_index += 1\n",
    "        predictions.append(current_highest_probability_index)\n",
    "        index += 1\n",
    "    return predictions \n",
    "\n",
    "# generate a test data point for plant c (test datapoints already generated previously for plant a and b)\n",
    "test_c_height = np.random.normal(loc=PLANT_C_AVG_HEIGHT)\n",
    "test_c_width = np.random.normal(loc=PLANT_C_AVG_WIDTH)\n",
    "\n",
    "# put test data points into array  \n",
    "test_inputs_three = np.array([[new_a_height, new_a_width], [new_b_height, new_b_width], [test_c_height, test_c_width]]) # put values into a matrix in the desired format \n",
    "\n",
    "# print class predictions\n",
    "print('Class predictions: {}'.format(one_vs_rest_predict(test_inputs_three, [model_a, model_b, model_c]))) \n",
    "# print class probabilities \n",
    "print('Probabilities:\\n{}'.format(one_vs_rest_proba(test_inputs_three, [model_a, model_b, model_c]))) \n",
    "\n",
    "total_expected = [0]*NUM_INPUTS + [1]*NUM_INPUTS + [2]*NUM_INPUTS # make new expected for default multinomial logistic regression\n",
    "model_multinomial = linear_model.LogisticRegression(max_iter=1500) # create multinomial logistic regression model \n",
    "model_multinomial.fit(plant_inputs_three, total_expected) # fit model  \n",
    "\n",
    "# print class predictions \n",
    "print('Class predictions:\\n{}'.format(model_multinomial.predict(test_inputs_three))) \n",
    "# print class probabilities \n",
    "print('Probabilities:\\n{}'.format(model_multinomial.predict_proba(test_inputs_three))) \n",
    "\n"
   ]
  },
  {
   "cell_type": "code",
   "execution_count": null,
   "metadata": {},
   "outputs": [],
   "source": []
  }
 ],
 "metadata": {
  "kernelspec": {
   "display_name": "Python 3",
   "language": "python",
   "name": "python3"
  },
  "language_info": {
   "codemirror_mode": {
    "name": "ipython",
    "version": 3
   },
   "file_extension": ".py",
   "mimetype": "text/x-python",
   "name": "python",
   "nbconvert_exporter": "python",
   "pygments_lexer": "ipython3",
   "version": "3.8.5"
  }
 },
 "nbformat": 4,
 "nbformat_minor": 2
}
