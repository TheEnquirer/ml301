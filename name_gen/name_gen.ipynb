{
  "nbformat": 4,
  "nbformat_minor": 0,
  "metadata": {
    "colab": {
      "name": "name_gen.ipynb",
      "provenance": [],
      "collapsed_sections": []
    },
    "kernelspec": {
      "display_name": "Python 3",
      "name": "python3"
    },
    "accelerator": "GPU",
    "widgets": {
      "application/vnd.jupyter.widget-state+json": {
        "2c8a79a34d9049539a3bb843a596ffd4": {
          "model_module": "@jupyter-widgets/controls",
          "model_name": "HBoxModel",
          "state": {
            "_view_name": "HBoxView",
            "_dom_classes": [],
            "_model_name": "HBoxModel",
            "_view_module": "@jupyter-widgets/controls",
            "_model_module_version": "1.5.0",
            "_view_count": null,
            "_view_module_version": "1.5.0",
            "box_style": "",
            "layout": "IPY_MODEL_cd53d150919345f6b21db91840d86e9c",
            "_model_module": "@jupyter-widgets/controls",
            "children": [
              "IPY_MODEL_67e14c1e0d7a4a7a827905cf1fd46959",
              "IPY_MODEL_e158848520404c8dbe8851c0a34613b6"
            ]
          }
        },
        "cd53d150919345f6b21db91840d86e9c": {
          "model_module": "@jupyter-widgets/base",
          "model_name": "LayoutModel",
          "state": {
            "_view_name": "LayoutView",
            "grid_template_rows": null,
            "right": null,
            "justify_content": null,
            "_view_module": "@jupyter-widgets/base",
            "overflow": null,
            "_model_module_version": "1.2.0",
            "_view_count": null,
            "flex_flow": null,
            "width": null,
            "min_width": null,
            "border": null,
            "align_items": null,
            "bottom": null,
            "_model_module": "@jupyter-widgets/base",
            "top": null,
            "grid_column": null,
            "overflow_y": null,
            "overflow_x": null,
            "grid_auto_flow": null,
            "grid_area": null,
            "grid_template_columns": null,
            "flex": null,
            "_model_name": "LayoutModel",
            "justify_items": null,
            "grid_row": null,
            "max_height": null,
            "align_content": null,
            "visibility": null,
            "align_self": null,
            "height": null,
            "min_height": null,
            "padding": null,
            "grid_auto_rows": null,
            "grid_gap": null,
            "max_width": null,
            "order": null,
            "_view_module_version": "1.2.0",
            "grid_template_areas": null,
            "object_position": null,
            "object_fit": null,
            "grid_auto_columns": null,
            "margin": null,
            "display": null,
            "left": null
          }
        },
        "67e14c1e0d7a4a7a827905cf1fd46959": {
          "model_module": "@jupyter-widgets/controls",
          "model_name": "FloatProgressModel",
          "state": {
            "_view_name": "ProgressView",
            "style": "IPY_MODEL_a1683fa716b940538269e2c71315ac7a",
            "_dom_classes": [],
            "description": "loss:5.858245849609375: 100%",
            "_model_name": "FloatProgressModel",
            "bar_style": "success",
            "max": 100,
            "_view_module": "@jupyter-widgets/controls",
            "_model_module_version": "1.5.0",
            "value": 100,
            "_view_count": null,
            "_view_module_version": "1.5.0",
            "orientation": "horizontal",
            "min": 0,
            "description_tooltip": null,
            "_model_module": "@jupyter-widgets/controls",
            "layout": "IPY_MODEL_43ac4d27d7fa40b99f6628c45e33f240"
          }
        },
        "e158848520404c8dbe8851c0a34613b6": {
          "model_module": "@jupyter-widgets/controls",
          "model_name": "HTMLModel",
          "state": {
            "_view_name": "HTMLView",
            "style": "IPY_MODEL_2d35867a6d7e4a42922ca9a671376955",
            "_dom_classes": [],
            "description": "",
            "_model_name": "HTMLModel",
            "placeholder": "​",
            "_view_module": "@jupyter-widgets/controls",
            "_model_module_version": "1.5.0",
            "value": " 100/100 [01:45&lt;00:00,  1.06s/it]",
            "_view_count": null,
            "_view_module_version": "1.5.0",
            "description_tooltip": null,
            "_model_module": "@jupyter-widgets/controls",
            "layout": "IPY_MODEL_126fed6d6d0e4d94b17ca3bea2994460"
          }
        },
        "a1683fa716b940538269e2c71315ac7a": {
          "model_module": "@jupyter-widgets/controls",
          "model_name": "ProgressStyleModel",
          "state": {
            "_view_name": "StyleView",
            "_model_name": "ProgressStyleModel",
            "description_width": "initial",
            "_view_module": "@jupyter-widgets/base",
            "_model_module_version": "1.5.0",
            "_view_count": null,
            "_view_module_version": "1.2.0",
            "bar_color": null,
            "_model_module": "@jupyter-widgets/controls"
          }
        },
        "43ac4d27d7fa40b99f6628c45e33f240": {
          "model_module": "@jupyter-widgets/base",
          "model_name": "LayoutModel",
          "state": {
            "_view_name": "LayoutView",
            "grid_template_rows": null,
            "right": null,
            "justify_content": null,
            "_view_module": "@jupyter-widgets/base",
            "overflow": null,
            "_model_module_version": "1.2.0",
            "_view_count": null,
            "flex_flow": null,
            "width": null,
            "min_width": null,
            "border": null,
            "align_items": null,
            "bottom": null,
            "_model_module": "@jupyter-widgets/base",
            "top": null,
            "grid_column": null,
            "overflow_y": null,
            "overflow_x": null,
            "grid_auto_flow": null,
            "grid_area": null,
            "grid_template_columns": null,
            "flex": null,
            "_model_name": "LayoutModel",
            "justify_items": null,
            "grid_row": null,
            "max_height": null,
            "align_content": null,
            "visibility": null,
            "align_self": null,
            "height": null,
            "min_height": null,
            "padding": null,
            "grid_auto_rows": null,
            "grid_gap": null,
            "max_width": null,
            "order": null,
            "_view_module_version": "1.2.0",
            "grid_template_areas": null,
            "object_position": null,
            "object_fit": null,
            "grid_auto_columns": null,
            "margin": null,
            "display": null,
            "left": null
          }
        },
        "2d35867a6d7e4a42922ca9a671376955": {
          "model_module": "@jupyter-widgets/controls",
          "model_name": "DescriptionStyleModel",
          "state": {
            "_view_name": "StyleView",
            "_model_name": "DescriptionStyleModel",
            "description_width": "",
            "_view_module": "@jupyter-widgets/base",
            "_model_module_version": "1.5.0",
            "_view_count": null,
            "_view_module_version": "1.2.0",
            "_model_module": "@jupyter-widgets/controls"
          }
        },
        "126fed6d6d0e4d94b17ca3bea2994460": {
          "model_module": "@jupyter-widgets/base",
          "model_name": "LayoutModel",
          "state": {
            "_view_name": "LayoutView",
            "grid_template_rows": null,
            "right": null,
            "justify_content": null,
            "_view_module": "@jupyter-widgets/base",
            "overflow": null,
            "_model_module_version": "1.2.0",
            "_view_count": null,
            "flex_flow": null,
            "width": null,
            "min_width": null,
            "border": null,
            "align_items": null,
            "bottom": null,
            "_model_module": "@jupyter-widgets/base",
            "top": null,
            "grid_column": null,
            "overflow_y": null,
            "overflow_x": null,
            "grid_auto_flow": null,
            "grid_area": null,
            "grid_template_columns": null,
            "flex": null,
            "_model_name": "LayoutModel",
            "justify_items": null,
            "grid_row": null,
            "max_height": null,
            "align_content": null,
            "visibility": null,
            "align_self": null,
            "height": null,
            "min_height": null,
            "padding": null,
            "grid_auto_rows": null,
            "grid_gap": null,
            "max_width": null,
            "order": null,
            "_view_module_version": "1.2.0",
            "grid_template_areas": null,
            "object_position": null,
            "object_fit": null,
            "grid_auto_columns": null,
            "margin": null,
            "display": null,
            "left": null
          }
        }
      }
    }
  },
  "cells": [
    {
      "cell_type": "markdown",
      "metadata": {
        "id": "a7RsnYaPa0lt"
      },
      "source": [
        "# Plan\n",
        "\n",
        "- \n",
        "\n",
        "\n",
        "\n",
        "\n",
        "\n"
      ]
    },
    {
      "cell_type": "code",
      "metadata": {
        "colab": {
          "base_uri": "https://localhost:8080/"
        },
        "id": "g5iwx-CkNHQG",
        "outputId": "e89996e8-9be6-484f-e004-6e959fb8f9ea"
      },
      "source": [
        "!pip install bpe"
      ],
      "execution_count": 1,
      "outputs": [
        {
          "output_type": "stream",
          "text": [
            "Collecting bpe\n",
            "  Downloading https://files.pythonhosted.org/packages/b3/88/b29a4daa4e32938662ee910b9f8869899e8437c3b8274d137d6089adc9ae/bpe-1.0-py3-none-any.whl\n",
            "Collecting mypy\n",
            "\u001b[?25l  Downloading https://files.pythonhosted.org/packages/e2/cb/cf5530d063e7e703e2fbec677bfba633de6e70fe44bc323deeaa27f273b8/mypy-0.790-cp36-cp36m-manylinux1_x86_64.whl (21.0MB)\n",
            "\u001b[K     |████████████████████████████████| 21.0MB 1.3MB/s \n",
            "\u001b[?25hRequirement already satisfied: nltk in /usr/local/lib/python3.6/dist-packages (from bpe) (3.2.5)\n",
            "Requirement already satisfied: tqdm in /usr/local/lib/python3.6/dist-packages (from bpe) (4.41.1)\n",
            "Requirement already satisfied: toolz in /usr/local/lib/python3.6/dist-packages (from bpe) (0.11.1)\n",
            "Collecting hypothesis\n",
            "\u001b[?25l  Downloading https://files.pythonhosted.org/packages/4b/79/21884119b24672bcc101f8d5fd78164fd1054060657c156e6d4ee87785e2/hypothesis-6.0.1-py3-none-any.whl (353kB)\n",
            "\u001b[K     |████████████████████████████████| 358kB 57.1MB/s \n",
            "\u001b[?25hRequirement already satisfied: pytest in /usr/local/lib/python3.6/dist-packages (from bpe) (3.6.4)\n",
            "Collecting mypy-extensions<0.5.0,>=0.4.3\n",
            "  Downloading https://files.pythonhosted.org/packages/5c/eb/975c7c080f3223a5cdaff09612f3a5221e4ba534f7039db34c35d95fa6a5/mypy_extensions-0.4.3-py2.py3-none-any.whl\n",
            "Requirement already satisfied: typing-extensions>=3.7.4 in /usr/local/lib/python3.6/dist-packages (from mypy->bpe) (3.7.4.3)\n",
            "Collecting typed-ast<1.5.0,>=1.4.0\n",
            "\u001b[?25l  Downloading https://files.pythonhosted.org/packages/56/c1/4cc3c0da2374963f59b2f57ef02e048cdc4f609cbc1184b4146d0812e5b5/typed_ast-1.4.2-cp36-cp36m-manylinux1_x86_64.whl (743kB)\n",
            "\u001b[K     |████████████████████████████████| 747kB 41.7MB/s \n",
            "\u001b[?25hRequirement already satisfied: six in /usr/local/lib/python3.6/dist-packages (from nltk->bpe) (1.15.0)\n",
            "Requirement already satisfied: attrs>=19.2.0 in /usr/local/lib/python3.6/dist-packages (from hypothesis->bpe) (20.3.0)\n",
            "Requirement already satisfied: sortedcontainers<3.0.0,>=2.1.0 in /usr/local/lib/python3.6/dist-packages (from hypothesis->bpe) (2.3.0)\n",
            "Requirement already satisfied: atomicwrites>=1.0 in /usr/local/lib/python3.6/dist-packages (from pytest->bpe) (1.4.0)\n",
            "Requirement already satisfied: more-itertools>=4.0.0 in /usr/local/lib/python3.6/dist-packages (from pytest->bpe) (8.6.0)\n",
            "Requirement already satisfied: setuptools in /usr/local/lib/python3.6/dist-packages (from pytest->bpe) (51.1.1)\n",
            "Requirement already satisfied: pluggy<0.8,>=0.5 in /usr/local/lib/python3.6/dist-packages (from pytest->bpe) (0.7.1)\n",
            "Requirement already satisfied: py>=1.5.0 in /usr/local/lib/python3.6/dist-packages (from pytest->bpe) (1.10.0)\n",
            "Installing collected packages: mypy-extensions, typed-ast, mypy, hypothesis, bpe\n",
            "Successfully installed bpe-1.0 hypothesis-6.0.1 mypy-0.790 mypy-extensions-0.4.3 typed-ast-1.4.2\n"
          ],
          "name": "stdout"
        }
      ]
    },
    {
      "cell_type": "code",
      "metadata": {
        "colab": {
          "base_uri": "https://localhost:8080/"
        },
        "id": "HRF5YKXHMNv1",
        "outputId": "e1516296-bee8-4d0a-a3e4-4cfff0300f7a"
      },
      "source": [
        "!pip install tqdm "
      ],
      "execution_count": 2,
      "outputs": [
        {
          "output_type": "stream",
          "text": [
            "Requirement already satisfied: tqdm in /usr/local/lib/python3.6/dist-packages (4.41.1)\n"
          ],
          "name": "stdout"
        }
      ]
    },
    {
      "cell_type": "code",
      "metadata": {
        "id": "0UunUJ_Yek0R"
      },
      "source": [
        "# imports\n",
        "\n",
        "\n",
        "from google.colab import files\n",
        "import pandas as pd\n",
        "import io\n",
        "import tensorflow as tf\n",
        "from keras.preprocessing.text import Tokenizer\n",
        "import numpy as np\n",
        "import string\n",
        "from keras.utils import to_categorical\n",
        "from bpe import Encoder\n",
        "from collections import defaultdict\n",
        "\n",
        "import torch\n",
        "import torch.nn as nn\n",
        "import torch.nn.functional as F\n",
        "import torch.optim as optim\n",
        "from tqdm import notebook\n",
        "\n",
        "# from random import shuffle\n",
        "import random"
      ],
      "execution_count": 3,
      "outputs": []
    },
    {
      "cell_type": "code",
      "metadata": {
        "colab": {
          "resources": {
            "http://localhost:8080/nbextensions/google.colab/files.js": {
              "data": "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",
              "ok": true,
              "headers": [
                [
                  "content-type",
                  "application/javascript"
                ]
              ],
              "status": 200,
              "status_text": ""
            }
          },
          "base_uri": "https://localhost:8080/",
          "height": 72
        },
        "id": "6KrLcbRIfO_X",
        "outputId": "b4fa02f9-5bde-45b3-a8cf-ce60f16df5df"
      },
      "source": [
        "# load data\n",
        "uploaded = files.upload()"
      ],
      "execution_count": 4,
      "outputs": [
        {
          "output_type": "display_data",
          "data": {
            "text/html": [
              "\n",
              "     <input type=\"file\" id=\"files-7aa416d6-21a3-46b4-9983-5d4f47a73c6d\" name=\"files[]\" multiple disabled\n",
              "        style=\"border:none\" />\n",
              "     <output id=\"result-7aa416d6-21a3-46b4-9983-5d4f47a73c6d\">\n",
              "      Upload widget is only available when the cell has been executed in the\n",
              "      current browser session. Please rerun this cell to enable.\n",
              "      </output>\n",
              "      <script src=\"/nbextensions/google.colab/files.js\"></script> "
            ],
            "text/plain": [
              "<IPython.core.display.HTML object>"
            ]
          },
          "metadata": {
            "tags": []
          }
        },
        {
          "output_type": "stream",
          "text": [
            "Saving babynames-clean.csv to babynames-clean.csv\n"
          ],
          "name": "stdout"
        }
      ]
    },
    {
      "cell_type": "code",
      "metadata": {
        "id": "OvNKVE3cf1uJ"
      },
      "source": [
        "names = pd.read_csv(io.BytesIO(uploaded['babynames-clean.csv']))\n",
        "names.drop(names.columns[[1, 1]], axis=1, inplace=True) # drop genders"
      ],
      "execution_count": 5,
      "outputs": []
    },
    {
      "cell_type": "code",
      "metadata": {
        "colab": {
          "base_uri": "https://localhost:8080/",
          "height": 204
        },
        "id": "y3i7vHRnBbFF",
        "outputId": "d3641b16-04f3-4b90-9dd6-674d00c329b7"
      },
      "source": [
        "##########################\n",
        "#         BPE            #\n",
        "##########################\n",
        "\n",
        "corpus = names[\"John\"].tolist() # to list ify\n",
        "\n",
        "encoder = Encoder(800, pct_bpe=1)  # encode it all\n",
        "encoder.fit(corpus) # fit it to the corpus\n",
        "\n",
        "names[\"tokenized_names\"] = names.apply(lambda row:encoder.tokenize(row[\"John\"]), axis=1) # make the collumn\n",
        "\n",
        "names.head()\n"
      ],
      "execution_count": 6,
      "outputs": [
        {
          "output_type": "execute_result",
          "data": {
            "text/html": [
              "<div>\n",
              "<style scoped>\n",
              "    .dataframe tbody tr th:only-of-type {\n",
              "        vertical-align: middle;\n",
              "    }\n",
              "\n",
              "    .dataframe tbody tr th {\n",
              "        vertical-align: top;\n",
              "    }\n",
              "\n",
              "    .dataframe thead th {\n",
              "        text-align: right;\n",
              "    }\n",
              "</style>\n",
              "<table border=\"1\" class=\"dataframe\">\n",
              "  <thead>\n",
              "    <tr style=\"text-align: right;\">\n",
              "      <th></th>\n",
              "      <th>John</th>\n",
              "      <th>tokenized_names</th>\n",
              "    </tr>\n",
              "  </thead>\n",
              "  <tbody>\n",
              "    <tr>\n",
              "      <th>0</th>\n",
              "      <td>William</td>\n",
              "      <td>[__sow, wi, ll, ia, m, __eow]</td>\n",
              "    </tr>\n",
              "    <tr>\n",
              "      <th>1</th>\n",
              "      <td>James</td>\n",
              "      <td>[__sow, ja, me, s, __eow]</td>\n",
              "    </tr>\n",
              "    <tr>\n",
              "      <th>2</th>\n",
              "      <td>Charles</td>\n",
              "      <td>[__sow, ch, ar, le, s, __eow]</td>\n",
              "    </tr>\n",
              "    <tr>\n",
              "      <th>3</th>\n",
              "      <td>George</td>\n",
              "      <td>[__sow, ge, or, ge, __eow]</td>\n",
              "    </tr>\n",
              "    <tr>\n",
              "      <th>4</th>\n",
              "      <td>Frank</td>\n",
              "      <td>[__sow, fr, an, k, __eow]</td>\n",
              "    </tr>\n",
              "  </tbody>\n",
              "</table>\n",
              "</div>"
            ],
            "text/plain": [
              "      John                tokenized_names\n",
              "0  William  [__sow, wi, ll, ia, m, __eow]\n",
              "1    James      [__sow, ja, me, s, __eow]\n",
              "2  Charles  [__sow, ch, ar, le, s, __eow]\n",
              "3   George     [__sow, ge, or, ge, __eow]\n",
              "4    Frank      [__sow, fr, an, k, __eow]"
            ]
          },
          "metadata": {
            "tags": []
          },
          "execution_count": 6
        }
      ]
    },
    {
      "cell_type": "code",
      "metadata": {
        "id": "0o6fbjfPLL3u"
      },
      "source": [
        "## find max_len\n",
        "\n",
        "# high = 0 # initialize high\n",
        "# high = names.apply(lambda row: max(high, len(row[\"tokenized_names\"])), axis=1) # jank, could cut the max func here\n",
        "# max_len = max(high.tolist()) # take the highest len value\n",
        "# print(max_len)\n"
      ],
      "execution_count": 7,
      "outputs": []
    },
    {
      "cell_type": "code",
      "metadata": {
        "id": "cRB9G8dbHGLj"
      },
      "source": [
        "##########################\n",
        "#       Padding          #\n",
        "##########################\n",
        "\n",
        "# names[\"padded\"] = names.apply(lambda row: row[\"tokenized_names\"]+(max_len - len(row[\"tokenized_names\"]))*[\"__pad\"], axis=1) # pad em\n",
        "\n",
        "# names.head()\n"
      ],
      "execution_count": 8,
      "outputs": []
    },
    {
      "cell_type": "code",
      "metadata": {
        "colab": {
          "base_uri": "https://localhost:8080/",
          "height": 204
        },
        "id": "BXIpYQ8yMsfC",
        "outputId": "4797184f-e71d-42c1-a492-344a57b92211"
      },
      "source": [
        "##########################\n",
        "#       Tokenize         #\n",
        "##########################\n",
        "\n",
        "tok = defaultdict(lambda: len(tok)) # define the default dict. add one to deal with new keys\n",
        "\n",
        "names[\"toked\"] = [[tok[j] for j in i] for i in names[\"tokenized_names\"].tolist()] # tokenize it!\n",
        "\n",
        "names.head()\n"
      ],
      "execution_count": 9,
      "outputs": [
        {
          "output_type": "execute_result",
          "data": {
            "text/html": [
              "<div>\n",
              "<style scoped>\n",
              "    .dataframe tbody tr th:only-of-type {\n",
              "        vertical-align: middle;\n",
              "    }\n",
              "\n",
              "    .dataframe tbody tr th {\n",
              "        vertical-align: top;\n",
              "    }\n",
              "\n",
              "    .dataframe thead th {\n",
              "        text-align: right;\n",
              "    }\n",
              "</style>\n",
              "<table border=\"1\" class=\"dataframe\">\n",
              "  <thead>\n",
              "    <tr style=\"text-align: right;\">\n",
              "      <th></th>\n",
              "      <th>John</th>\n",
              "      <th>tokenized_names</th>\n",
              "      <th>toked</th>\n",
              "    </tr>\n",
              "  </thead>\n",
              "  <tbody>\n",
              "    <tr>\n",
              "      <th>0</th>\n",
              "      <td>William</td>\n",
              "      <td>[__sow, wi, ll, ia, m, __eow]</td>\n",
              "      <td>[0, 1, 2, 3, 4, 5]</td>\n",
              "    </tr>\n",
              "    <tr>\n",
              "      <th>1</th>\n",
              "      <td>James</td>\n",
              "      <td>[__sow, ja, me, s, __eow]</td>\n",
              "      <td>[0, 6, 7, 8, 5]</td>\n",
              "    </tr>\n",
              "    <tr>\n",
              "      <th>2</th>\n",
              "      <td>Charles</td>\n",
              "      <td>[__sow, ch, ar, le, s, __eow]</td>\n",
              "      <td>[0, 9, 10, 11, 8, 5]</td>\n",
              "    </tr>\n",
              "    <tr>\n",
              "      <th>3</th>\n",
              "      <td>George</td>\n",
              "      <td>[__sow, ge, or, ge, __eow]</td>\n",
              "      <td>[0, 12, 13, 12, 5]</td>\n",
              "    </tr>\n",
              "    <tr>\n",
              "      <th>4</th>\n",
              "      <td>Frank</td>\n",
              "      <td>[__sow, fr, an, k, __eow]</td>\n",
              "      <td>[0, 14, 15, 16, 5]</td>\n",
              "    </tr>\n",
              "  </tbody>\n",
              "</table>\n",
              "</div>"
            ],
            "text/plain": [
              "      John                tokenized_names                 toked\n",
              "0  William  [__sow, wi, ll, ia, m, __eow]    [0, 1, 2, 3, 4, 5]\n",
              "1    James      [__sow, ja, me, s, __eow]       [0, 6, 7, 8, 5]\n",
              "2  Charles  [__sow, ch, ar, le, s, __eow]  [0, 9, 10, 11, 8, 5]\n",
              "3   George     [__sow, ge, or, ge, __eow]    [0, 12, 13, 12, 5]\n",
              "4    Frank      [__sow, fr, an, k, __eow]    [0, 14, 15, 16, 5]"
            ]
          },
          "metadata": {
            "tags": []
          },
          "execution_count": 9
        }
      ]
    },
    {
      "cell_type": "code",
      "metadata": {
        "colab": {
          "base_uri": "https://localhost:8080/",
          "height": 204
        },
        "id": "oNfTvxxclpr3",
        "outputId": "44afab2c-eca0-4417-9582-7d47329e8f08"
      },
      "source": [
        "##########################\n",
        "#       One Hot          #\n",
        "##########################\n",
        "\n",
        "names[\"one_hot\"] = names.apply(lambda row: to_categorical(row[\"toked\"], num_classes=len(tok)), axis=1) # one hot it! num_classes is len of tok \n",
        "\n",
        "names.head()"
      ],
      "execution_count": 10,
      "outputs": [
        {
          "output_type": "execute_result",
          "data": {
            "text/html": [
              "<div>\n",
              "<style scoped>\n",
              "    .dataframe tbody tr th:only-of-type {\n",
              "        vertical-align: middle;\n",
              "    }\n",
              "\n",
              "    .dataframe tbody tr th {\n",
              "        vertical-align: top;\n",
              "    }\n",
              "\n",
              "    .dataframe thead th {\n",
              "        text-align: right;\n",
              "    }\n",
              "</style>\n",
              "<table border=\"1\" class=\"dataframe\">\n",
              "  <thead>\n",
              "    <tr style=\"text-align: right;\">\n",
              "      <th></th>\n",
              "      <th>John</th>\n",
              "      <th>tokenized_names</th>\n",
              "      <th>toked</th>\n",
              "      <th>one_hot</th>\n",
              "    </tr>\n",
              "  </thead>\n",
              "  <tbody>\n",
              "    <tr>\n",
              "      <th>0</th>\n",
              "      <td>William</td>\n",
              "      <td>[__sow, wi, ll, ia, m, __eow]</td>\n",
              "      <td>[0, 1, 2, 3, 4, 5]</td>\n",
              "      <td>[[1.0, 0.0, 0.0, 0.0, 0.0, 0.0, 0.0, 0.0, 0.0,...</td>\n",
              "    </tr>\n",
              "    <tr>\n",
              "      <th>1</th>\n",
              "      <td>James</td>\n",
              "      <td>[__sow, ja, me, s, __eow]</td>\n",
              "      <td>[0, 6, 7, 8, 5]</td>\n",
              "      <td>[[1.0, 0.0, 0.0, 0.0, 0.0, 0.0, 0.0, 0.0, 0.0,...</td>\n",
              "    </tr>\n",
              "    <tr>\n",
              "      <th>2</th>\n",
              "      <td>Charles</td>\n",
              "      <td>[__sow, ch, ar, le, s, __eow]</td>\n",
              "      <td>[0, 9, 10, 11, 8, 5]</td>\n",
              "      <td>[[1.0, 0.0, 0.0, 0.0, 0.0, 0.0, 0.0, 0.0, 0.0,...</td>\n",
              "    </tr>\n",
              "    <tr>\n",
              "      <th>3</th>\n",
              "      <td>George</td>\n",
              "      <td>[__sow, ge, or, ge, __eow]</td>\n",
              "      <td>[0, 12, 13, 12, 5]</td>\n",
              "      <td>[[1.0, 0.0, 0.0, 0.0, 0.0, 0.0, 0.0, 0.0, 0.0,...</td>\n",
              "    </tr>\n",
              "    <tr>\n",
              "      <th>4</th>\n",
              "      <td>Frank</td>\n",
              "      <td>[__sow, fr, an, k, __eow]</td>\n",
              "      <td>[0, 14, 15, 16, 5]</td>\n",
              "      <td>[[1.0, 0.0, 0.0, 0.0, 0.0, 0.0, 0.0, 0.0, 0.0,...</td>\n",
              "    </tr>\n",
              "  </tbody>\n",
              "</table>\n",
              "</div>"
            ],
            "text/plain": [
              "      John  ...                                            one_hot\n",
              "0  William  ...  [[1.0, 0.0, 0.0, 0.0, 0.0, 0.0, 0.0, 0.0, 0.0,...\n",
              "1    James  ...  [[1.0, 0.0, 0.0, 0.0, 0.0, 0.0, 0.0, 0.0, 0.0,...\n",
              "2  Charles  ...  [[1.0, 0.0, 0.0, 0.0, 0.0, 0.0, 0.0, 0.0, 0.0,...\n",
              "3   George  ...  [[1.0, 0.0, 0.0, 0.0, 0.0, 0.0, 0.0, 0.0, 0.0,...\n",
              "4    Frank  ...  [[1.0, 0.0, 0.0, 0.0, 0.0, 0.0, 0.0, 0.0, 0.0,...\n",
              "\n",
              "[5 rows x 4 columns]"
            ]
          },
          "metadata": {
            "tags": []
          },
          "execution_count": 10
        }
      ]
    },
    {
      "cell_type": "code",
      "metadata": {
        "id": "AUwyKYaVA5QE"
      },
      "source": [
        "# # data = names[\"one_hot\"].tolist()\n",
        "\n",
        "# # print(data[:3])\n",
        "\n",
        "# arr = [[[1,2,3], [4,5,6]], [[7,8,9], [10, 11, 12]], [[13, 14, 15]]]\n",
        "# # print(a)\n",
        "# a = []\n",
        "# b = []\n",
        "# fliper = True\n",
        "\n",
        "\n",
        "# for i in arr:\n",
        "#   for j in i:\n",
        "#     # if flip:\n",
        "#     #   a.append(j)\n",
        "#     # else:\n",
        "#     #   b.append(j)\n",
        "#     # flip = !flip\n",
        "\n",
        "#     if fliper == True:\n",
        "#       a.append(j)\n",
        "#       fliper = False\n",
        "\n",
        "#     else:\n",
        "#       b.append(j)\n",
        "#       fliper = True\n",
        "\n",
        "\n",
        "# print(a)\n",
        "# print(b)"
      ],
      "execution_count": 11,
      "outputs": []
    },
    {
      "cell_type": "code",
      "metadata": {
        "id": "p5ZgVY0Lnsky",
        "colab": {
          "base_uri": "https://localhost:8080/"
        },
        "outputId": "c29f17a4-7dfc-4c43-cecb-e1086948e2e3"
      },
      "source": [
        "########################\n",
        "#     Markhov Time     #\n",
        "########################\n",
        "\n",
        "data = names[\"one_hot\"].tolist()\n",
        "\n",
        "inputs = []\n",
        "labels = []\n",
        "\n",
        "fliper = True \n",
        "for i in data:\n",
        "  for j in i:\n",
        "    if fliper == True:\n",
        "        inputs.append(list(j))\n",
        "        fliper = False\n",
        "    else:\n",
        "      labels.append(list(j))\n",
        "      fliper = True\n",
        "\n",
        "max_len = min(len(inputs), len(labels))\n",
        "\n",
        "inputs = inputs[:max_len]\n",
        "labels = labels[:max_len]\n",
        "\n",
        "joined_lists = list(zip(inputs, labels))\n",
        "random.shuffle(joined_lists) # Shuffle \"joined_lists\" in place\n",
        "inputs, labels = zip(*joined_lists) # Undo joining\n",
        "\n",
        "\n",
        "a = np.array(inputs)\n",
        "print(np.shape(a))\n",
        "\n",
        "b = np.array(labels)\n",
        "print(np.shape(b))"
      ],
      "execution_count": 12,
      "outputs": [
        {
          "output_type": "stream",
          "text": [
            "(17672, 433)\n",
            "(17672, 433)\n"
          ],
          "name": "stdout"
        }
      ]
    },
    {
      "cell_type": "code",
      "metadata": {
        "colab": {
          "base_uri": "https://localhost:8080/"
        },
        "id": "o47WdjLzRUFg",
        "outputId": "bd99ce0b-b15b-4f26-9868-d23e9ea05a00"
      },
      "source": [
        "#################\n",
        "#     Batches   #\n",
        "#################\n",
        "inp_batches = []\n",
        "lab_batches = []\n",
        "inp = []\n",
        "lab = []\n",
        "\n",
        "\n",
        "for i in range(min(len(inputs), len(labels))):\n",
        "  if len(inp) == 64:\n",
        "    inp_batches.append(inp)\n",
        "    lab_batches.append(lab)\n",
        "\n",
        "    inp = []\n",
        "    lab = []\n",
        "  inp.append(inputs[i])\n",
        "  lab.append(labels[i])\n",
        "  #   batches.append(b)\n",
        "  #   b = []\n",
        "  # b.append(list(i))\n",
        "  # if len()\n",
        "  # pass\n",
        "\n",
        "a = np.array(inp_batches)\n",
        "print(np.shape(a))\n",
        "\n",
        "b = np.array(lab_batches)\n",
        "print(np.shape(b)) \n",
        "\n",
        "\n",
        "inp_ts = torch.FloatTensor(inp_batches)\n",
        "lab_ts = torch.FloatTensor(lab_batches)\n",
        "\n",
        "# print(ts.shape)\n",
        "\n",
        "print(inp_ts.shape)\n",
        "print(lab_ts.shape)\n",
        "# print(ts)\n",
        "\n"
      ],
      "execution_count": 13,
      "outputs": [
        {
          "output_type": "stream",
          "text": [
            "(276, 64, 433)\n",
            "(276, 64, 433)\n",
            "torch.Size([276, 64, 433])\n",
            "torch.Size([276, 64, 433])\n"
          ],
          "name": "stdout"
        }
      ]
    },
    {
      "cell_type": "code",
      "metadata": {
        "id": "2GgPPAh9Lg_q"
      },
      "source": [
        "#####################\n",
        "#   df to tensor    #\n",
        "#####################\n",
        "\n",
        "# data = torch.from_numpy(np.array(names[\"one_hot\"].tolist()))\n",
        "\n",
        "# print(data)\n"
      ],
      "execution_count": 14,
      "outputs": []
    },
    {
      "cell_type": "markdown",
      "metadata": {
        "id": "8ysvDrHwWFdJ"
      },
      "source": [
        "-\n",
        "\n",
        "\n",
        "\n"
      ]
    },
    {
      "cell_type": "code",
      "metadata": {
        "id": "WkQNJkfAo9vP"
      },
      "source": [
        "###################################\n",
        "#     Model :clap: Time :clap:    #\n",
        "###################################\n",
        "\n",
        "\n",
        "class Net(nn.Module):\n",
        "    def __init__(self):\n",
        "        super(Net, self).__init__()\n",
        "        # layers\n",
        "        self.layer1 = nn.Linear(433, 256)\n",
        "        self.layer2 = nn.Linear(256, 128)\n",
        "        self.layer3 = nn.Linear(128, 256)\n",
        "        self.layer4 = nn.Linear(256, 434)\n",
        "        self.output_ac = nn.Softmax(dim=1) # uh \n",
        "\n",
        "    def forward(self, x):\n",
        "        # model structure\n",
        "        net = self.layer1(x)\n",
        "        net = self.layer2(net)\n",
        "        net = self.layer3(net)\n",
        "        net = self.layer4(net)\n",
        "        net = self.output_ac(net)\n",
        "\n",
        "        return net\n",
        "\n",
        "\n",
        "net = Net().cuda()\n",
        "\n",
        "\n"
      ],
      "execution_count": 15,
      "outputs": []
    },
    {
      "cell_type": "code",
      "metadata": {
        "id": "P3Zn2XBDkW7e",
        "colab": {
          "base_uri": "https://localhost:8080/"
        },
        "outputId": "ae961f08-04a6-48fa-dacf-6a75579061c8"
      },
      "source": [
        "###################\n",
        "#   OPTIMIZER     #\n",
        "###################\n",
        "\n",
        "\n",
        "criterion = nn.CrossEntropyLoss()\n",
        "optimizer = optim.Adam(net.parameters(), lr=1e-3)\n",
        "\n",
        "\n",
        "def init_weights(m):\n",
        "    if type(m) == nn.Linear:\n",
        "        torch.nn.init.xavier_uniform(m.weight)\n",
        "        m.bias.data.fill_(0.01)\n",
        "\n",
        "net.apply(init_weights)\n"
      ],
      "execution_count": 18,
      "outputs": [
        {
          "output_type": "stream",
          "text": [
            "/usr/local/lib/python3.6/dist-packages/ipykernel_launcher.py:12: UserWarning: nn.init.xavier_uniform is now deprecated in favor of nn.init.xavier_uniform_.\n",
            "  if sys.path[0] == '':\n"
          ],
          "name": "stderr"
        },
        {
          "output_type": "execute_result",
          "data": {
            "text/plain": [
              "Net(\n",
              "  (layer1): Linear(in_features=433, out_features=256, bias=True)\n",
              "  (layer2): Linear(in_features=256, out_features=128, bias=True)\n",
              "  (layer3): Linear(in_features=128, out_features=256, bias=True)\n",
              "  (layer4): Linear(in_features=256, out_features=434, bias=True)\n",
              "  (output_ac): Softmax(dim=1)\n",
              ")"
            ]
          },
          "metadata": {
            "tags": []
          },
          "execution_count": 18
        }
      ]
    },
    {
      "cell_type": "code",
      "metadata": {
        "colab": {
          "base_uri": "https://localhost:8080/",
          "height": 66,
          "referenced_widgets": [
            "2c8a79a34d9049539a3bb843a596ffd4",
            "cd53d150919345f6b21db91840d86e9c",
            "67e14c1e0d7a4a7a827905cf1fd46959",
            "e158848520404c8dbe8851c0a34613b6",
            "a1683fa716b940538269e2c71315ac7a",
            "43ac4d27d7fa40b99f6628c45e33f240",
            "2d35867a6d7e4a42922ca9a671376955",
            "126fed6d6d0e4d94b17ca3bea2994460"
          ]
        },
        "id": "gXWAksmNQhr1",
        "outputId": "b072d7cd-aca2-4942-eac4-893be800b281"
      },
      "source": [
        "###################\n",
        "#     TRAINING    #\n",
        "###################\n",
        "\n",
        "zach = notebook.tqdm(range(100))\n",
        "\n",
        "for epoch in zach:  # loop over the dataset multiple times\n",
        "  for batch in range(len(inp_ts)):\n",
        "    # for i in range(len(inp_batches[batch])):\n",
        "\n",
        "    inputs = torch.FloatTensor(inp_batches[batch]).cuda()\n",
        "    labels = torch.FloatTensor(lab_batches[batch]).cuda()\n",
        "\n",
        "    # print(torch.argmax(labels, dim=1))\n",
        "    # print(inp_batches[batch])\n",
        "    # print(inputs.size())\n",
        "    # print(inp_batches[30])\n",
        "\n",
        "    # print(inputs)\n",
        "\n",
        "    optimizer.zero_grad()\n",
        "    outputs = net(inputs)\n",
        "    loss = criterion(outputs, torch.argmax(labels, dim=1))\n",
        "    loss.backward()\n",
        "    optimizer.step()\n",
        "\n",
        "    #       # print statistics\n",
        "    # # running_loss += loss.item()\n",
        "    # # if batch % 2000 == 1999:    # print every 2000 mini-batches\n",
        "    # if True:\n",
        "    #   print('[%d, %5d] loss: %.3f' %\n",
        "    #               (epoch + 1, batch + 1, loss.item()))\n",
        "    #   running_loss = 0.0\n",
        "  zach.set_description(f'loss:{loss.item()}')\n",
        "\n",
        "  # print(\"finished training\")"
      ],
      "execution_count": 19,
      "outputs": [
        {
          "output_type": "display_data",
          "data": {
            "application/vnd.jupyter.widget-view+json": {
              "model_id": "2c8a79a34d9049539a3bb843a596ffd4",
              "version_minor": 0,
              "version_major": 2
            },
            "text/plain": [
              "HBox(children=(FloatProgress(value=0.0), HTML(value='')))"
            ]
          },
          "metadata": {
            "tags": []
          }
        },
        {
          "output_type": "stream",
          "text": [
            "\n"
          ],
          "name": "stdout"
        }
      ]
    },
    {
      "cell_type": "code",
      "metadata": {
        "id": "oxwh0T9FQGEv"
      },
      "source": [
        "def decode:\n",
        "\n",
        "\n",
        "  "
      ],
      "execution_count": null,
      "outputs": []
    },
    {
      "cell_type": "code",
      "metadata": {
        "colab": {
          "base_uri": "https://localhost:8080/",
          "height": 130
        },
        "id": "xDWAlspsKgUA",
        "outputId": "977dfa6c-b927-4156-d6e6-2c20dfbf3e42"
      },
      "source": [
        "###################\n",
        "#     TRAINING    #\n",
        "###################\n",
        "\n",
        "# zach = notebook(range(100))\n",
        "\n",
        "# for epoch in zach:  # loop over the dataset multiple times\n",
        "#   for batch in range(len(inp_ts)):\n",
        "#       running_loss = 0.0\n",
        "#       # for i, data in enumerate(batch):\n",
        "#       # for i in range(len(batch)):\n",
        "\n",
        "#           # get the inputs; data is a list of [inputs, labels]\n",
        "#           # inputs, labels = data\n",
        "#           # inputs = data[0]\n",
        "#           # labels = data[1]\n",
        "#           # print(ts)\n",
        "#           print(batch.shape)\n",
        "#           # print(\"labels\", labels)\n",
        "#           # print(\"inputs\", inputs)\n",
        "#           # print(torch.argmax(labels, dim=0))\n",
        "\n",
        "#           # zero the parameter gradients\n",
        "#           optimizer.zero_grad()\n",
        "\n",
        "#           # forward + backward + optimize\n",
        "#           outputs = net(inputs)\n",
        "#           # print(outputs)\n",
        "#           loss = criterion(outputs, labels)\n",
        "#           loss.backward()\n",
        "#           optimizer.step()\n",
        "\n",
        "#           # print statistics\n",
        "#           # running_loss += loss.item()\n",
        "#           # if i % 2000 == 1999:    # print every 2000 mini-batches\n",
        "#           #     print('[%d, %5d] loss: %.3f' %\n",
        "#           #           (epoch + 1, i + 1, running_loss / 2000))\n",
        "#           #     running_loss = 0.0\n",
        "#   zach.set_description(f'loss:{loss.item()}')\n",
        "\n",
        "#   print('Finished Training')\n",
        "\n",
        "\n"
      ],
      "execution_count": 20,
      "outputs": [
        {
          "output_type": "error",
          "ename": "IndentationError",
          "evalue": "ignored",
          "traceback": [
            "\u001b[0;36m  File \u001b[0;32m\"<ipython-input-20-55170df5d396>\"\u001b[0;36m, line \u001b[0;32m18\u001b[0m\n\u001b[0;31m    print(batch.shape)\u001b[0m\n\u001b[0m    ^\u001b[0m\n\u001b[0;31mIndentationError\u001b[0m\u001b[0;31m:\u001b[0m unexpected indent\n"
          ]
        }
      ]
    }
  ]
}