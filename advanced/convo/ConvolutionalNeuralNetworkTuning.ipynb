{
 "cells": [
  {
   "cell_type": "markdown",
   "metadata": {},
   "source": [
    "## Instructions\n",
    "0. If you haven't already, follow [the setup instructions here](https://jennselby.github.io/MachineLearningCourseNotes/#setting-up-python3) to get all necessary software installed.\n",
    "0. Read through the code in the following sections:\n",
    "    * [MNIST Data](#MNIST-Data)\n",
    "    * [Convolutional Neural Network Model](#Convolutional-Neural-Network-Model)\n",
    "    * [Train Model](#Train-Model)\n",
    "    * [Validation](#Validation)\n",
    "0. Complete the [Exercise](#Exercise)"
   ]
  },
  {
   "cell_type": "code",
   "execution_count": 1,
   "metadata": {},
   "outputs": [],
   "source": [
    "# allow matplotlib graphics to display in the notebook\n",
    "%matplotlib inline\n",
    "import matplotlib.pyplot\n",
    "\n",
    "# import numpy, for image dimension manipulation\n",
    "import numpy\n",
    "\n",
    "# import validation methods from scikit-learn\n",
    "from sklearn.metrics import precision_recall_fscore_support, accuracy_score\n",
    "\n",
    "# import the dataset and neural network layers from keras\n",
    "from keras.datasets import mnist\n",
    "from keras.models import Sequential, Model\n",
    "from keras.layers.convolutional import Conv2D\n",
    "from keras.layers import Dense, Flatten, Dropout\n",
    "from keras.optimizers import SGD, Adam\n",
    "from keras.utils import to_categorical"
   ]
  },
  {
   "cell_type": "markdown",
   "metadata": {},
   "source": [
    "## MNIST Data\n",
    "[MNIST](https://en.wikipedia.org/wiki/MNIST_database) is a famous dataset of images of handwritten numbers. The goal is to be able to figure out which number is in the image."
   ]
  },
  {
   "cell_type": "code",
   "execution_count": 2,
   "metadata": {},
   "outputs": [],
   "source": [
    "# constants to describe the MNIST images\n",
    "NUM_ROWS = 28 \n",
    "NUM_COLUMNS = 28\n",
    "NUM_COLORS = 1\n",
    "IMG_SHAPE = (NUM_ROWS, NUM_COLUMNS, NUM_COLORS)\n",
    "\n",
    "# constant to describe the MNIST output labels\n",
    "# there are ten different numbers, 0-9\n",
    "NUM_CLASSES = 10"
   ]
  },
  {
   "cell_type": "code",
   "execution_count": 3,
   "metadata": {},
   "outputs": [],
   "source": [
    "# load the data\n",
    "((images_train, labels_train), (images_test, labels_test)) = mnist.load_data()"
   ]
  },
  {
   "cell_type": "markdown",
   "metadata": {},
   "source": [
    "Let's take a look at one particular image and its label, to better understand the dataset."
   ]
  },
  {
   "cell_type": "code",
   "execution_count": 4,
   "metadata": {},
   "outputs": [
    {
     "data": {
      "text/plain": [
       "<matplotlib.image.AxesImage at 0x1434838b0>"
      ]
     },
     "execution_count": 4,
     "metadata": {},
     "output_type": "execute_result"
    },
    {
     "data": {
      "image/png": "[encoded data removed]",
      "text/plain": [
       "<Figure size 432x288 with 1 Axes>"
      ]
     },
     "metadata": {
      "needs_background": "light"
     },
     "output_type": "display_data"
    }
   ],
   "source": [
    "matplotlib.pyplot.imshow(images_train[17], cmap='twilight_shifted_r')"
   ]
  },
  {
   "cell_type": "code",
   "execution_count": 5,
   "metadata": {},
   "outputs": [
    {
     "data": {
      "text/plain": [
       "8"
      ]
     },
     "execution_count": 5,
     "metadata": {},
     "output_type": "execute_result"
    }
   ],
   "source": [
    "labels_train[17]"
   ]
  },
  {
   "cell_type": "markdown",
   "metadata": {},
   "source": [
    "## Convolutional Neural Network Model"
   ]
  },
  {
   "cell_type": "code",
   "execution_count": 6,
   "metadata": {},
   "outputs": [],
   "source": [
    "model = Sequential()\n",
    "\n",
    "# convolutional layers\n",
    "model.add(Conv2D(input_shape=IMG_SHAPE,\n",
    "                 filters=8, kernel_size=3, strides=2, padding='same'))\n",
    "model.add(Conv2D(filters=6, kernel_size=3, strides=2, padding='same'))\n",
    "\n",
    "# dense layers to consolidate information\n",
    "model.add(Flatten())\n",
    "model.add(Dense(units=8, activation='tanh'))\n",
    "\n",
    "# output layer to make the final decision on which number it is\n",
    "model.add(Dense(units=NUM_CLASSES, activation='softmax'))"
   ]
  },
  {
   "cell_type": "markdown",
   "metadata": {},
   "source": [
    "## Train Model"
   ]
  },
  {
   "cell_type": "code",
   "execution_count": 7,
   "metadata": {},
   "outputs": [
    {
     "name": "stdout",
     "output_type": "stream",
     "text": [
      "Epoch 1/2\n",
      "1875/1875 [==============================] - 15s 8ms/step - loss: 1.6090\n",
      "Epoch 2/2\n",
      "1875/1875 [==============================] - 5s 3ms/step - loss: 1.5035\n"
     ]
    },
    {
     "data": {
      "text/plain": [
       "<tensorflow.python.keras.callbacks.History at 0x1436ba3a0>"
      ]
     },
     "execution_count": 7,
     "metadata": {},
     "output_type": "execute_result"
    }
   ],
   "source": [
    "# keras requires a color dimension, so we need to expand each image to have one\n",
    "images_3d_train = numpy.expand_dims(images_train, axis=3)\n",
    "\n",
    "# the labels need to be one-hot encoded, to match the ten outputs of our model\n",
    "labels_onehot_train = to_categorical(labels_train)\n",
    "\n",
    "# set up the model to be ready for training\n",
    "model.compile(optimizer=SGD(), loss='categorical_crossentropy')\n",
    "\n",
    "# fit the model to the training data\n",
    "model.fit(images_3d_train, labels_onehot_train, epochs=2)"
   ]
  },
  {
   "cell_type": "markdown",
   "metadata": {},
   "source": [
    "## Validation"
   ]
  },
  {
   "cell_type": "code",
   "execution_count": 8,
   "metadata": {},
   "outputs": [],
   "source": [
    "# keras requires a color dimension, so we need to expand each image to have one\n",
    "images_3d_test = numpy.expand_dims(images_test, axis=3)\n",
    "\n",
    "# get the predictions from the model\n",
    "predictions_test_onehot = model.predict(images_3d_test)\n",
    "\n",
    "# get the index that has the highest probability\n",
    "predictions_test = numpy.argmax(predictions_test_onehot, axis=1)"
   ]
  },
  {
   "cell_type": "code",
   "execution_count": 9,
   "metadata": {},
   "outputs": [
    {
     "data": {
      "text/plain": [
       "0.5451"
      ]
     },
     "execution_count": 9,
     "metadata": {},
     "output_type": "execute_result"
    }
   ],
   "source": [
    "# get the overall accuracy\n",
    "accuracy_score(y_true=labels_test, y_pred=predictions_test)"
   ]
  },
  {
   "cell_type": "code",
   "execution_count": 10,
   "metadata": {},
   "outputs": [
    {
     "data": {
      "text/plain": [
       "(array([0.50462487, 0.61304623, 0.77220077, 0.43245175, 0.55588453,\n",
       "        0.56422018, 0.66868932, 0.73495248, 0.37167139, 0.59854015]),\n",
       " array([0.50102041, 0.85286344, 0.19379845, 0.5990099 , 0.76476578,\n",
       "        0.13789238, 0.57515658, 0.6770428 , 0.67351129, 0.40634291]),\n",
       " array([0.50281618, 0.71333825, 0.30983734, 0.50228311, 0.64380626,\n",
       "        0.22162162, 0.61840629, 0.70481013, 0.47900694, 0.48406139]),\n",
       " array([ 980, 1135, 1032, 1010,  982,  892,  958, 1028,  974, 1009]))"
      ]
     },
     "execution_count": 10,
     "metadata": {},
     "output_type": "execute_result"
    }
   ],
   "source": [
    "# get precision, recall, f-score, and number of examples of each digit\n",
    "# can you see which digits are easiest for the model, and which are hardest? looks to be struggling with 5 and 8\n",
    "precision_recall_fscore_support(y_true=labels_test, y_pred=predictions_test)"
   ]
  },
  {
   "cell_type": "markdown",
   "metadata": {},
   "source": [
    "## Exercise\n",
    "\n",
    "Can you get the model to perform better? Try adding more layers, or taking them away. \n",
    "Take a look at the documentation for the [convolutional](https://keras.io/layers/convolutional/) and [dense](https://keras.io/layers/core/) layers and the [sequential model](https://keras.io/models/sequential/) to understand the options that you have and try out different things.\n",
    "\n",
    "It might also be a good idea to find examples posted online of networks that did well with MNIST and try out some of the configuration they used. Make sure you cite any sources you use!\n",
    "\n",
    "Take notes of what performance you get from different configurations.\n",
    "\n",
    "\n",
    "Comment on what patterns you observed in terms of what changes helped your model."
   ]
  },
  {
   "cell_type": "code",
   "execution_count": 11,
   "metadata": {},
   "outputs": [],
   "source": [
    "###########\n",
    "#   def   #\n",
    "###########\n",
    "\n",
    "model2 = Sequential()\n",
    "\n",
    "# convolutional layers\n",
    "model2.add(Conv2D(input_shape=IMG_SHAPE,\n",
    "                 filters=4, kernel_size=6, strides=2, padding='same')) # focus on bigger features, \n",
    "# model2.add(Dropout(0.2))\n",
    "model2.add(Conv2D(filters=8, kernel_size=2, strides=2, padding='same')) # then look closer\n",
    "\n",
    "# dense layers to consolidate information\n",
    "model2.add(Flatten())\n",
    "model2.add(Dense(units=8, activation='tanh'))\n",
    "\n",
    "# output layer to make the final decision on which number it is\n",
    "model2.add(Dense(units=NUM_CLASSES, activation='softmax'))\n"
   ]
  },
  {
   "cell_type": "code",
   "execution_count": 12,
   "metadata": {},
   "outputs": [
    {
     "name": "stdout",
     "output_type": "stream",
     "text": [
      "Epoch 1/2\n",
      "1875/1875 [==============================] - 18s 10ms/step - loss: 1.2386\n",
      "Epoch 2/2\n",
      "1875/1875 [==============================] - 10s 5ms/step - loss: 0.7366\n"
     ]
    },
    {
     "data": {
      "text/plain": [
       "<tensorflow.python.keras.callbacks.History at 0x143db0e50>"
      ]
     },
     "execution_count": 12,
     "metadata": {},
     "output_type": "execute_result"
    }
   ],
   "source": [
    "\n",
    "#############\n",
    "#   train   #\n",
    "#############\n",
    "\n",
    "# keras requires a color dimension, so we need to expand each image to have one\n",
    "images_3d_train = numpy.expand_dims(images_train, axis=3)\n",
    "\n",
    "# the labels need to be one-hot encoded, to match the ten outputs of our model\n",
    "labels_onehot_train = to_categorical(labels_train)\n",
    "\n",
    "# set up the model to be ready for training\n",
    "model2.compile(optimizer=Adam(), loss='categorical_crossentropy') # Adam converges faster, better with only 2 epochs\n",
    "\n",
    "# fit the model to the training data\n",
    "model2.fit(images_3d_train, labels_onehot_train, epochs=2)"
   ]
  },
  {
   "cell_type": "code",
   "execution_count": 13,
   "metadata": {},
   "outputs": [
    {
     "data": {
      "text/plain": [
       "0.8109"
      ]
     },
     "execution_count": 13,
     "metadata": {},
     "output_type": "execute_result"
    }
   ],
   "source": [
    "#############\n",
    "#   score   #\n",
    "#############\n",
    "\n",
    "# keras requires a color dimension, so we need to expand each image to have one\n",
    "images_3d_test = numpy.expand_dims(images_test, axis=3)\n",
    "\n",
    "# get the predictions from the model\n",
    "predictions_test_onehot = model2.predict(images_3d_test)\n",
    "\n",
    "# get the index that has the highest probability\n",
    "predictions_test = numpy.argmax(predictions_test_onehot, axis=1)\n",
    "\n",
    "# get the overall accuracy\n",
    "accuracy_score(y_true=labels_test, y_pred=predictions_test)"
   ]
  },
  {
   "cell_type": "markdown",
   "metadata": {},
   "source": [
    "# Configurations\n",
    "\n",
    "Top score: 0.808\n",
    "\n",
    "---\n",
    "\n",
    "Adam seems to work best\n",
    "\n",
    "More convolutional layers seems to work worse, maybe because we only have two epochs\n",
    "\n",
    "Removing the dropout made it work better, at least with only a few layers\n",
    "\n",
    "More dense layers seemed to work worse\n",
    "\n",
    "looking large then small seemed to work better than looking small then large\n",
    "\n",
    "Less filters seems to work better! Final try pushed previous learnings to the extreme, and worked best!\n"
   ]
  },
  {
   "cell_type": "code",
   "execution_count": 14,
   "metadata": {},
   "outputs": [],
   "source": [
    "# # convolutional layers\n",
    "# model2.add(Conv2D(input_shape=IMG_SHAPE,\n",
    "#                  filters=12, kernel_size=3, strides=2, padding='same'))\n",
    "# model2.add(Conv2D(filters=6, kernel_size=6, strides=2, padding='same'))\n",
    "# model2.add(Dropout(0.3))\n",
    "# model2.add(Conv2D(filters=8, kernel_size=3, strides=2, padding='same'))\n",
    "\n",
    "\n",
    "# # dense layers to consolidate information\n",
    "# model2.add(Flatten())\n",
    "# model2.add(Dense(units=12, activation='tanh'))\n",
    "# model2.add(Dense(units=8, activation='tanh'))\n",
    "\n",
    "# # 0.65, adam op\n",
    "\n",
    "\n",
    "# # convolutional layers\n",
    "# model2.add(Conv2D(input_shape=IMG_SHAPE,\n",
    "#                  filters=8, kernel_size=3, strides=2, padding='same'))\n",
    "# model2.add(Conv2D(filters=12, kernel_size=2, strides=2, padding='same'))\n",
    "# model2.add(Dropout(0.3))\n",
    "# model2.add(Conv2D(filters=8, kernel_size=3, strides=2, padding='same'))\n",
    "# model2.add(Dropout(0.3))\n",
    "# model2.add(Conv2D(filters=6, kernel_size=6, strides=2, padding='same'))\n",
    "\n",
    "# # dense layers to consolidate information\n",
    "# model2.add(Flatten())\n",
    "# model2.add(Dense(units=12, activation='tanh'))\n",
    "# model2.add(Dense(units=8, activation='tanh'))\n",
    "\n",
    "# # # 0.75, adam op\n",
    "\n",
    "\n",
    "# # convolutional layers\n",
    "# model2.add(Conv2D(input_shape=IMG_SHAPE,\n",
    "#                  filters=12, kernel_size=6, strides=2, padding='same'))\n",
    "# model2.add(Conv2D(filters=16, kernel_size=2, strides=2, padding='same'))\n",
    "# model2.add(Dropout(0.3))\n",
    "# model2.add(Conv2D(filters=8, kernel_size=3, strides=2, padding='same'))\n",
    "\n",
    "\n",
    "# # dense layers to consolidate information\n",
    "# model2.add(Flatten())\n",
    "# # model2.add(Dense(units=12, activation='tanh'))\n",
    "# model2.add(Dense(units=8, activation='tanh'))\n",
    "\n",
    "# # # 0.7\n",
    "\n",
    "\n",
    "\n",
    "# # convolutional layers\n",
    "# model2.add(Conv2D(input_shape=IMG_SHAPE,\n",
    "#                  filters=6, kernel_size=6, strides=2, padding='same'))\n",
    "# model2.add(Conv2D(filters=16, kernel_size=3, strides=2, padding='same'))\n",
    "# model2.add(Dropout(0.3))\n",
    "# model2.add(Conv2D(filters=8, kernel_size=3, strides=2, padding='same'))\n",
    "\n",
    "\n",
    "# # dense layers to consolidate information\n",
    "# model2.add(Flatten())\n",
    "# # model2.add(Dense(units=12, activation='tanh'))\n",
    "# model2.add(Dense(units=8, activation='tanh'))\n",
    "\n",
    "# # # 0.74 \n",
    "\n",
    "\n",
    "# # convolutional layers\n",
    "# model2.add(Conv2D(input_shape=IMG_SHAPE,\n",
    "#                  filters=6, kernel_size=6, strides=2, padding='same'))\n",
    "# # model2.add(Dropout(0.2))\n",
    "# model2.add(Conv2D(filters=12, kernel_size=3, strides=2, padding='same'))\n",
    "\n",
    "# # # 0.76\n",
    "\n",
    "\n",
    "# model2 = Sequential()\n",
    "\n",
    "# # convolutional layers\n",
    "# model2.add(Conv2D(input_shape=IMG_SHAPE,\n",
    "#                  filters=6, kernel_size=6, strides=2, padding='same')) # focus on bigger features, \n",
    "# # model2.add(Dropout(0.2))\n",
    "# model2.add(Conv2D(filters=8, kernel_size=3, strides=2, padding='same')) # then look closer\n",
    "\n",
    "# # dense layers to consolidate information\n",
    "# model2.add(Flatten())\n",
    "# model2.add(Dense(units=8, activation='tanh'))\n",
    "\n",
    "# # output layer to make the final decision on which number it is\n",
    "# model2.add(Dense(units=NUM_CLASSES, activation='softmax'))\n",
    "\n",
    "# # # 0.77\n",
    "\n",
    "\n",
    "# # convolutional layers\n",
    "# model2.add(Conv2D(input_shape=IMG_SHAPE,\n",
    "#                  filters=4, kernel_size=6, strides=2, padding='same')) # focus on bigger features, \n",
    "# # model2.add(Dropout(0.2))\n",
    "# model2.add(Conv2D(filters=8, kernel_size=3, strides=2, padding='same')) # then look closer\n",
    "\n",
    "# # dense layers to consolidate information\n",
    "# model2.add(Flatten())\n",
    "# model2.add(Dense(units=8, activation='tanh'))\n",
    "\n",
    "# # # 0.78\n",
    "\n",
    "# # convolutional layers\n",
    "# model2.add(Conv2D(input_shape=IMG_SHAPE,\n",
    "#                  filters=4, kernel_size=6, strides=2, padding='same')) # focus on bigger features, \n",
    "# # model2.add(Dropout(0.2))\n",
    "# model2.add(Conv2D(filters=8, kernel_size=2, strides=2, padding='same')) # then look closer\n",
    "\n",
    "# # # 0.808"
   ]
  },
  {
   "cell_type": "code",
   "execution_count": null,
   "metadata": {},
   "outputs": [],
   "source": []
  }
 ],
 "metadata": {
  "kernelspec": {
   "display_name": "Python 3",
   "language": "python",
   "name": "python3"
  },
  "language_info": {
   "codemirror_mode": {
    "name": "ipython",
    "version": 3
   },
   "file_extension": ".py",
   "mimetype": "text/x-python",
   "name": "python",
   "nbconvert_exporter": "python",
   "pygments_lexer": "ipython3",
   "version": "3.8.5"
  }
 },
 "nbformat": 4,
 "nbformat_minor": 2
}
