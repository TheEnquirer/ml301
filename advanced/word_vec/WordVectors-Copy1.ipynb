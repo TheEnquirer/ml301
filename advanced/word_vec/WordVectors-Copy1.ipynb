{
 "cells": [
  {
   "cell_type": "markdown",
   "metadata": {},
   "source": [
    "## Documentation/Sources\n",
    "* [https://radimrehurek.com/gensim/models/word2vec.html](https://radimrehurek.com/gensim/models/word2vec.html) for more information about how to use gensim word2vec in general\n",
    "* _Blog post has been removed_ [https://codekansas.github.io/blog/2016/gensim.html](https://codekansas.github.io/blog/2016/gensim.html) for information about using it to create embedding layers for neural networks.\n",
    "* [https://machinelearningmastery.com/sequence-classification-lstm-recurrent-neural-networks-python-keras/](https://machinelearningmastery.com/sequence-classification-lstm-recurrent-neural-networks-python-keras/) for information on sequence classification with keras\n",
    "* [https://blog.keras.io/using-pre-trained-word-embeddings-in-a-keras-model.html](https://blog.keras.io/using-pre-trained-word-embeddings-in-a-keras-model.html) for using pre-trained embeddings with keras (though the syntax they use for the model layers is different than most other tutorials).\n",
    "* [https://keras.io/](https://keras.io/) Keras API documentation"
   ]
  },
  {
   "cell_type": "markdown",
   "metadata": {},
   "source": [
    "## Load Trained Word Vectors"
   ]
  },
  {
   "cell_type": "code",
   "execution_count": 87,
   "metadata": {},
   "outputs": [],
   "source": [
    "from gensim.models import word2vec\n",
    "from tqdm.notebook import tqdm\n",
    "import numpy as np\n",
    "import pprint"
   ]
  },
  {
   "cell_type": "markdown",
   "metadata": {},
   "source": [
    "Load the trained model file into memory"
   ]
  },
  {
   "cell_type": "code",
   "execution_count": 37,
   "metadata": {},
   "outputs": [
    {
     "name": "stdout",
     "output_type": "stream",
     "text": [
      "stating\n"
     ]
    },
    {
     "name": "stderr",
     "output_type": "stream",
     "text": [
      "\r",
      "0it [00:00, ?it/s]"
     ]
    },
    {
     "name": "stdout",
     "output_type": "stream",
     "text": [
      "stating\n"
     ]
    }
   ],
   "source": [
    "print(\"stating\")\n",
    "wv_model = tqdm(word2vec.Word2Vec.load('1billion_word_vectors/1billion_word_vectors'))\n",
    "print(\"stating\")"
   ]
  },
  {
   "cell_type": "code",
   "execution_count": 7,
   "metadata": {},
   "outputs": [],
   "source": [
    "wordvec = wv_model.wv\n",
    "del wv_model"
   ]
  },
  {
   "cell_type": "markdown",
   "metadata": {},
   "source": [
    "## Explore Word Vectors\n",
    "Now we can look at some of the relationships between different words.\n",
    "\n",
    "Like [the gensim documentation](https://radimrehurek.com/gensim/models/word2vec.html), let's start with a famous example: king + woman - man"
   ]
  },
  {
   "cell_type": "code",
   "execution_count": 8,
   "metadata": {},
   "outputs": [
    {
     "data": {
      "text/plain": [
       "[('queen', 0.8407386541366577),\n",
       " ('monarch', 0.7541723847389221),\n",
       " ('prince', 0.7350203394889832),\n",
       " ('princess', 0.696908175945282),\n",
       " ('empress', 0.6771803498268127),\n",
       " ('sultan', 0.6649758815765381),\n",
       " ('Chakri', 0.6451102495193481),\n",
       " ('goddess', 0.6439394950866699),\n",
       " ('ruler', 0.6275452971458435),\n",
       " ('kings', 0.6273427605628967)]"
      ]
     },
     "execution_count": 8,
     "metadata": {},
     "output_type": "execute_result"
    }
   ],
   "source": [
    "wordvec.most_similar(positive=['king', 'woman'], negative=['man'])"
   ]
  },
  {
   "cell_type": "code",
   "execution_count": 63,
   "metadata": {},
   "outputs": [
    {
     "data": {
      "text/plain": [
       "[('man', 1.0653877258300781),\n",
       " ('woman', 0.8369502425193787),\n",
       " ('teenager', 0.7884278297424316),\n",
       " ('boy', 0.7414097189903259)]"
      ]
     },
     "execution_count": 63,
     "metadata": {},
     "output_type": "execute_result"
    }
   ],
   "source": [
    "wordvec.similar_by_vector(wordvec['man'], 4)\n"
   ]
  },
  {
   "cell_type": "code",
   "execution_count": 136,
   "metadata": {
    "scrolled": true
   },
   "outputs": [
    {
     "data": {
      "application/vnd.jupyter.widget-view+json": {
       "model_id": "709e00a4418e48a8ae04d888fac6b21c",
       "version_major": 2,
       "version_minor": 0
      },
      "text/plain": [
       "  0%|          | 0/7 [00:00<?, ?it/s]"
      ]
     },
     "metadata": {},
     "output_type": "display_data"
    }
   ],
   "source": [
    "idx = 0\n",
    "word = \"cute\"\n",
    "init = list(wordvec[word])\n",
    "vman = init[:]\n",
    "# vman.setflags(write=1)\n",
    "vman = np.asarray(vman)\n",
    "\n",
    "\n",
    "new = []\n",
    "for j in tqdm(range(7)):\n",
    "    org = vman[j]\n",
    "    for i in range(50):\n",
    "        vman[j] = org+(i-25)\n",
    "        val = wordvec.similar_by_vector(vman, 1)[0][0]\n",
    "        if val != word:\n",
    "            new.append({\"word\": val, \"idx\": j, \"mod\": org+(i-25)})\n",
    "#             print(val, j)\n",
    "#         print(wordvec.similar_by_vector(vman, 1)[0][0], org+(i-11))\n",
    "# print(new)\n",
    "# print(vman[0])\n",
    "# print(wordvec['woman'][0])\n",
    "\n",
    "\n",
    "\n",
    "# print(wordvec.similar_by_vector(wordvec['woman'], 3))\n",
    "\n",
    "\n",
    "\n",
    "\n",
    "\n",
    "\n"
   ]
  },
  {
   "cell_type": "code",
   "execution_count": 137,
   "metadata": {},
   "outputs": [],
   "source": [
    "# 40 41 48 51"
   ]
  },
  {
   "cell_type": "code",
   "execution_count": 138,
   "metadata": {},
   "outputs": [],
   "source": [
    "seen = set([])\n",
    "filtered = []\n",
    "for i in new:\n",
    "    if i[\"word\"]+str(i[\"idx\"]) in seen:\n",
    "        pass\n",
    "    else: \n",
    "        seen.add(i[\"word\"]+str(i[\"idx\"]))\n",
    "        filtered.append(i)\n",
    "        \n",
    "# sorted(filtered, key=\n",
    "        \n",
    "    "
   ]
  },
  {
   "cell_type": "code",
   "execution_count": 139,
   "metadata": {
    "scrolled": false
   },
   "outputs": [
    {
     "name": "stdout",
     "output_type": "stream",
     "text": [
      "1 distractible\n",
      "1 relatable\n",
      "3 Twilight-inspired\n",
      "4 loveable\n",
      "4 Low-caste\n",
      "4 Morris-Endeavor\n",
      "4 Voris\n",
      "5 Low-caste\n",
      "5 Voris\n",
      "6 Woolrich\n",
      "6 Voris\n",
      "6 Memorialization\n"
     ]
    }
   ],
   "source": [
    "for i in filtered:\n",
    "#     pprint.pprint(i, width = -3)\n",
    "    print(i[\"idx\"], i[\"word\"])"
   ]
  },
  {
   "cell_type": "code",
   "execution_count": null,
   "metadata": {},
   "outputs": [],
   "source": []
  },
  {
   "cell_type": "code",
   "execution_count": null,
   "metadata": {},
   "outputs": [],
   "source": []
  },
  {
   "cell_type": "code",
   "execution_count": 141,
   "metadata": {},
   "outputs": [
    {
     "data": {
      "text/plain": [
       "array([ 0.38865358, -2.1107743 , -2.003988  , -0.31166077,  0.97522616,\n",
       "        1.4073135 , -0.98492455, -2.4262545 , -0.7087455 ,  3.0240846 ,\n",
       "        0.0985974 ,  3.405747  ,  2.206282  ,  1.1213834 , -0.42690405,\n",
       "       -0.23373044, -1.6159244 ,  2.7046468 ,  5.967234  , -3.6125023 ,\n",
       "       -1.6524575 , -0.51258636, -0.10651779,  2.484518  ,  1.8357123 ,\n",
       "       -2.0842283 ,  3.402295  ,  4.5033426 , -2.4330144 , -2.230759  ,\n",
       "        5.524397  ,  4.8115845 , -4.670179  , -0.7791498 ,  0.01813507,\n",
       "        1.7689639 ,  0.1497581 , -2.385136  , -1.6071137 ,  2.3212562 ,\n",
       "        1.8299152 ,  0.5422261 ,  5.6654196 ,  0.61587846, -0.71751326,\n",
       "       -2.302374  ,  1.4522423 ,  1.4342182 , -5.640812  , -0.8586035 ,\n",
       "        2.2799087 ,  4.016923  ,  2.187685  , -0.10254097, -0.5406332 ,\n",
       "        4.625556  , -5.2651887 ,  2.3313272 ,  0.94915676, -1.5027626 ,\n",
       "       -2.8596325 , -0.7064119 , -4.1055546 ,  2.6064713 , -0.3552088 ,\n",
       "       -1.4843247 ,  0.03060269, -1.5442756 ,  2.977877  ,  1.8528274 ,\n",
       "        0.8730815 ,  0.34082222, -0.7425106 ,  2.4565668 ,  1.8551925 ,\n",
       "        2.0963988 , -1.3117038 , -0.63724494, -0.65799975, -0.9308144 ,\n",
       "       -1.1301681 ,  0.7296543 ,  3.4994488 , -0.41491532,  0.24011219,\n",
       "        0.1287508 ,  1.5279679 ,  1.2070309 ,  2.7534907 ,  1.2303836 ,\n",
       "        3.5364397 , -0.97056794, -3.2645087 , -3.0549712 , -1.2467141 ,\n",
       "        2.2876472 ,  2.4395084 , -2.1681814 , -0.12581182, -4.093563  ],\n",
       "      dtype=float32)"
      ]
     },
     "execution_count": 141,
     "metadata": {},
     "output_type": "execute_result"
    }
   ],
   "source": [
    "wordvec[\"sad\"] - wordvec[\"upset\"]"
   ]
  },
  {
   "cell_type": "code",
   "execution_count": null,
   "metadata": {},
   "outputs": [],
   "source": []
  },
  {
   "cell_type": "code",
   "execution_count": 153,
   "metadata": {},
   "outputs": [],
   "source": [
    "import matplotlib.pyplot as plt\n",
    "from matplotlib import cm\n",
    "from matplotlib.colors import ListedColormap, LinearSegmentedColormap"
   ]
  },
  {
   "cell_type": "code",
   "execution_count": 173,
   "metadata": {},
   "outputs": [],
   "source": [
    "def plot_examples(colormaps):\n",
    "    \"\"\"\n",
    "    Helper function to plot data with associated colormap.\n",
    "    \"\"\"\n",
    "    np.random.seed(19680801)\n",
    "    data = np.random.randn(30, 30)\n",
    "    data = [list(wordvec[\"sad\"])]\n",
    "    n = len(colormaps)\n",
    "    fig, axs = plt.subplots(1, n, figsize=(100, 1),\n",
    "                            constrained_layout=True, squeeze=False)\n",
    "    for [ax, cmap] in zip(axs.flat, colormaps):\n",
    "        psm = ax.pcolormesh(data, cmap=cmap, rasterized=True, vmin=-4, vmax=4)\n",
    "        fig.colorbar(psm, ax=ax)\n",
    "    plt.show()"
   ]
  },
  {
   "cell_type": "code",
   "execution_count": 176,
   "metadata": {},
   "outputs": [
    {
     "data": {
      "image/png": "[encoded data removed]",
      "text/plain": [
       "<Figure size 7200x72 with 2 Axes>"
      ]
     },
     "metadata": {
      "needs_background": "light"
     },
     "output_type": "display_data"
    }
   ],
   "source": [
    "# cmap = ListedColormap([\"darkorange\", \"gold\", \"lawngreen\", \"lightseagreen\"])\n",
    "plot_examples([cmap])"
   ]
  },
  {
   "cell_type": "code",
   "execution_count": null,
   "metadata": {},
   "outputs": [],
   "source": []
  },
  {
   "cell_type": "code",
   "execution_count": null,
   "metadata": {},
   "outputs": [],
   "source": []
  }
 ],
 "metadata": {
  "kernelspec": {
   "display_name": "Python 3",
   "language": "python",
   "name": "python3"
  },
  "language_info": {
   "codemirror_mode": {
    "name": "ipython",
    "version": 3
   },
   "file_extension": ".py",
   "mimetype": "text/x-python",
   "name": "python",
   "nbconvert_exporter": "python",
   "pygments_lexer": "ipython3",
   "version": "3.8.5"
  }
 },
 "nbformat": 4,
 "nbformat_minor": 2
}
