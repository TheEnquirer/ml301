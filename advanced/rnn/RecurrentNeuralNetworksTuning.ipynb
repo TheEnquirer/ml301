{
  "nbformat": 4,
  "nbformat_minor": 0,
  "metadata": {
    "kernelspec": {
      "name": "python3",
      "display_name": "Python 3"
    },
    "language_info": {
      "codemirror_mode": {
        "name": "ipython",
        "version": 3
      },
      "file_extension": ".py",
      "mimetype": "text/x-python",
      "name": "python",
      "nbconvert_exporter": "python",
      "pygments_lexer": "ipython3",
      "version": "3.7.6"
    },
    "colab": {
      "name": "RecurrentNeuralNetworksTuning.ipynb",
      "provenance": []
    },
    "accelerator": "GPU"
  },
  "cells": [
    {
      "cell_type": "markdown",
      "metadata": {
        "id": "qqDNVAuZa03l"
      },
      "source": [
        "# Instructions\n",
        "\n",
        "1. Go to https://colab.research.google.com and choose the \\\"Upload\\\" option to upload this notebook file.\n",
        "1. In the Edit menu, choose \\\"Notebook Settings\\\" and then set the \\\"Hardware Accelerator\\\" dropdown to GPU.\n",
        "1. Read through the code in the following sections:\n",
        "  * [IMDB Dataset](#scrollTo=mXcb24B6a03_)\n",
        "  * [Define model](#scrollTo=kAz68ipVa05_)\n",
        "  * [Train model](#scrollTo=kIynp1v_a06Y)\n",
        "  * [Assess model](#scrollTo=ALyNCqx4a06r)\n",
        "1. Complete at least one of these exercises. Remember to keep notes about what you do!\n",
        "  * [Exercise Option #1 - Standard Difficulty](#scrollTo=_9dsjJwya06_)\n",
        "  * [Exercise Option #2 - Advanced Difficulty](#scrollTo=nyZbljLAa09z)"
      ]
    },
    {
      "cell_type": "markdown",
      "metadata": {
        "id": "POc2jClCa03y"
      },
      "source": [
        "## Documentation/Sources\n",
        "* [Class Notes](https://jennselby.github.io/MachineLearningCourseNotes/#recurrent-neural-networks)\n",
        "* [https://machinelearningmastery.com/sequence-classification-lstm-recurrent-neural-networks-python-keras/](https://machinelearningmastery.com/sequence-classification-lstm-recurrent-neural-networks-python-keras/) for information on sequence classification with keras\n",
        "* [https://keras.io/](https://keras.io/) Keras API documentation\n",
        "* [Keras recurrent tutorial](https://github.com/Vict0rSch/deep_learning/tree/master/keras/recurrent)"
      ]
    },
    {
      "cell_type": "code",
      "metadata": {
        "id": "h04E5miUb8wh"
      },
      "source": [
        "# upgrade tensorflow to tensorflow 2\n",
        "%tensorflow_version 2.x\n",
        "# display matplotlib plots\n",
        "%matplotlib inline\n",
        "from tensorflow import test\n",
        "from tensorflow import device"
      ],
      "execution_count": 1,
      "outputs": []
    },
    {
      "cell_type": "markdown",
      "metadata": {
        "id": "mXcb24B6a03_"
      },
      "source": [
        "# IMDB Dataset\n",
        "The [IMDB dataset](https://keras.io/datasets/#imdb-movie-reviews-sentiment-classification) consists of movie reviews (x_train) that have been marked as positive or negative (y_train). See the [Word Vectors Tutorial](https://github.com/jennselby/MachineLearningTutorials/blob/master/WordVectors.ipynb) for more details on the IMDB dataset."
      ]
    },
    {
      "cell_type": "code",
      "metadata": {
        "id": "u2kXcDIia04D"
      },
      "source": [
        "from tensorflow.keras.datasets import imdb\n",
        "from tensorflow.keras.preprocessing import sequence"
      ],
      "execution_count": 2,
      "outputs": []
    },
    {
      "cell_type": "code",
      "metadata": {
        "id": "KWuzcUyua04f",
        "colab": {
          "base_uri": "https://localhost:8080/"
        },
        "outputId": "8d9de11a-6fa0-4b63-da57-0bc1b2a8b88a"
      },
      "source": [
        "(imdb_x_train, imdb_y_train), (imdb_x_test, imdb_y_test) = imdb.load_data()"
      ],
      "execution_count": 3,
      "outputs": [
        {
          "output_type": "stream",
          "text": [
            "Downloading data from https://storage.googleapis.com/tensorflow/tf-keras-datasets/imdb.npz\n",
            "17465344/17464789 [==============================] - 0s 0us/step\n"
          ],
          "name": "stdout"
        },
        {
          "output_type": "stream",
          "text": [
            "<string>:6: VisibleDeprecationWarning: Creating an ndarray from ragged nested sequences (which is a list-or-tuple of lists-or-tuples-or ndarrays with different lengths or shapes) is deprecated. If you meant to do this, you must specify 'dtype=object' when creating the ndarray\n",
            "/usr/local/lib/python3.7/dist-packages/tensorflow/python/keras/datasets/imdb.py:159: VisibleDeprecationWarning: Creating an ndarray from ragged nested sequences (which is a list-or-tuple of lists-or-tuples-or ndarrays with different lengths or shapes) is deprecated. If you meant to do this, you must specify 'dtype=object' when creating the ndarray\n",
            "  x_train, y_train = np.array(xs[:idx]), np.array(labels[:idx])\n",
            "/usr/local/lib/python3.7/dist-packages/tensorflow/python/keras/datasets/imdb.py:160: VisibleDeprecationWarning: Creating an ndarray from ragged nested sequences (which is a list-or-tuple of lists-or-tuples-or ndarrays with different lengths or shapes) is deprecated. If you meant to do this, you must specify 'dtype=object' when creating the ndarray\n",
            "  x_test, y_test = np.array(xs[idx:]), np.array(labels[idx:])\n"
          ],
          "name": "stderr"
        }
      ]
    },
    {
      "cell_type": "markdown",
      "metadata": {
        "id": "hYQ3yPO4a04x"
      },
      "source": [
        "For a standard keras model, every input has to be the same length, so we need to set some length after which we will cutoff the rest of the review. (We will also need to pad the shorter reviews with zeros to make them the same length)."
      ]
    },
    {
      "cell_type": "code",
      "metadata": {
        "id": "QtYp3G31a040"
      },
      "source": [
        "cutoff = 500\n",
        "imdb_x_train_padded = sequence.pad_sequences(imdb_x_train, maxlen=cutoff)\n",
        "imdb_x_test_padded = sequence.pad_sequences(imdb_x_test, maxlen=cutoff)\n",
        "\n",
        " # see https://stackoverflow.com/questions/42821330/restore-original-text-from-keras-s-imdb-dataset\n",
        "imdb_index_offset = 3"
      ],
      "execution_count": 4,
      "outputs": []
    },
    {
      "cell_type": "code",
      "metadata": {
        "id": "iOGRpn25a05o"
      },
      "source": [
        "from tensorflow.keras.models import Sequential\n",
        "from tensorflow.keras.layers import Embedding, LSTM, Dense"
      ],
      "execution_count": 5,
      "outputs": []
    },
    {
      "cell_type": "markdown",
      "metadata": {
        "id": "kAz68ipVa05_"
      },
      "source": [
        "# Define model\n",
        "\n",
        "Unlike last time, when we used convolutional layers, we're going to use an LSTM, a special type of recurrent network.\n",
        "\n",
        "Using recurrent networks means that rather than seeing these reviews as one input happening all at once, with the convolutional layers taking into account which words are next to each other, we are going to see them as a sequence of inputs, with one word occurring at each timestep."
      ]
    },
    {
      "cell_type": "code",
      "metadata": {
        "id": "4u9ZArrxa06G",
        "colab": {
          "base_uri": "https://localhost:8080/"
        },
        "outputId": "2f421b31-95e9-4235-d313-f1e9fc96bf29"
      },
      "source": [
        "imdb_lstm_model = Sequential()\n",
        "imdb_lstm_model.add(Embedding(input_dim=len(imdb.get_word_index()) + imdb_index_offset,\n",
        "                              output_dim=100,\n",
        "                              input_length=cutoff))\n",
        "# return_sequences tells the LSTM to output the full sequence, for use by the next LSTM layer. The final\n",
        "# LSTM layer should return only the output sequence, for use in the Dense output layer\n",
        "imdb_lstm_model.add(LSTM(units=32, return_sequences=True))\n",
        "imdb_lstm_model.add(LSTM(units=32))\n",
        "imdb_lstm_model.add(Dense(units=1, activation='sigmoid')) # because at the end, we want one yes/no answer\n",
        "imdb_lstm_model.compile(loss='binary_crossentropy', optimizer='adam', metrics=['binary_accuracy'])"
      ],
      "execution_count": 6,
      "outputs": [
        {
          "output_type": "stream",
          "text": [
            "Downloading data from https://storage.googleapis.com/tensorflow/tf-keras-datasets/imdb_word_index.json\n",
            "1646592/1641221 [==============================] - 0s 0us/step\n"
          ],
          "name": "stdout"
        }
      ]
    },
    {
      "cell_type": "markdown",
      "metadata": {
        "id": "kIynp1v_a06Y"
      },
      "source": [
        "# Train model"
      ]
    },
    {
      "cell_type": "code",
      "metadata": {
        "id": "-ktpTQmpa06Z",
        "colab": {
          "base_uri": "https://localhost:8080/"
        },
        "outputId": "2d3e96f1-f5e9-4358-831a-6948d9b609db"
      },
      "source": [
        "# Train using GPU acceleration\n",
        "# (see https://colab.research.google.com/notebooks/gpu.ipynb#scrollTo=Y04m-jvKRDsJ)\n",
        "device_name = test.gpu_device_name()\n",
        "if device_name != '/device:GPU:0':\n",
        "  print(\n",
        "      '\\n\\nThis error most likely means that this notebook is not '\n",
        "      'configured to use a GPU.  Change this in Notebook Settings via the '\n",
        "      'command palette (cmd/ctrl-shift-P) or the Edit menu.\\n\\n')\n",
        "  raise SystemError('GPU device not found')\n",
        "\n",
        "with device('/device:GPU:0'):\n",
        "  imdb_lstm_model.fit(imdb_x_train_padded, imdb_y_train, epochs=1, batch_size=64)"
      ],
      "execution_count": 7,
      "outputs": [
        {
          "output_type": "stream",
          "text": [
            "391/391 [==============================] - 81s 125ms/step - loss: 0.5034 - binary_accuracy: 0.7224\n"
          ],
          "name": "stdout"
        }
      ]
    },
    {
      "cell_type": "markdown",
      "metadata": {
        "id": "ALyNCqx4a06r"
      },
      "source": [
        "# Assess model"
      ]
    },
    {
      "cell_type": "code",
      "metadata": {
        "id": "fzNKy7fCa06y",
        "colab": {
          "base_uri": "https://localhost:8080/"
        },
        "outputId": "ad5249d2-9083-45b4-8f83-0befd6fb1e9c"
      },
      "source": [
        "with device('/device:GPU:0'):\n",
        "  imdb_lstm_scores = imdb_lstm_model.evaluate(imdb_x_test_padded, imdb_y_test)\n",
        "  print('loss: {} accuracy: {}'.format(*imdb_lstm_scores))"
      ],
      "execution_count": 8,
      "outputs": [
        {
          "output_type": "stream",
          "text": [
            "782/782 [==============================] - 14s 17ms/step - loss: 0.3422 - binary_accuracy: 0.8557\n",
            "loss: 0.3421633541584015 accuracy: 0.855679988861084\n"
          ],
          "name": "stdout"
        }
      ]
    },
    {
      "cell_type": "markdown",
      "metadata": {
        "id": "_9dsjJwya06_"
      },
      "source": [
        "# Exercise Option #1 - Standard Difficulty\n",
        "\n",
        "Experiment with different model configurations from the one above. Try other recurrent layers, different numbers of layers, change some of the defaults. See [Keras Recurrent Layers](https://keras.io/layers/recurrent/)\n",
        "\n",
        "__Keep notes on what you try and what results you get.__"
      ]
    },
    {
      "cell_type": "markdown",
      "metadata": {
        "id": "x3Ezm1TA2UTr"
      },
      "source": [
        "- Org: 0.3421, 0.8556\n",
        "- +dense with relu and 16 units: 0.3239, 0.8661\n",
        "- +dense*2, the one above and one with 32 units: 0.3102, 0.8697\n",
        "- change 16 to 32: 0.3259, 0.8724\n",
        "- change units, 32, 16, 16, 8, 1: 0.3125, 0.8741"
      ]
    },
    {
      "cell_type": "code",
      "metadata": {
        "id": "CGDXolUia07G"
      },
      "source": [
        "m = Sequential()\n",
        "m.add(Embedding(input_dim=len(imdb.get_word_index()) + imdb_index_offset,\n",
        "                              output_dim=100,\n",
        "                              input_length=cutoff))\n",
        "# return_sequences tells the LSTM to output the full sequence, for use by the next LSTM layer. The final\n",
        "# LSTM layer should return only the output sequence, for use in the Dense output layer\n",
        "m.add(LSTM(units=32, return_sequences=True))\n",
        "# m.add(LSTM(units=32, return_sequences=True))\n",
        "m.add(LSTM(units=16))\n",
        "m.add(Dense(units=16, activation='relu'))\n",
        "m.add(Dense(units=8, activation='relu'))\n",
        "m.add(Dense(units=1, activation='sigmoid')) # because at the end, we want one yes/no answer\n",
        "m.compile(loss='binary_crossentropy', optimizer='adam', metrics=['binary_accuracy'])"
      ],
      "execution_count": 49,
      "outputs": []
    },
    {
      "cell_type": "code",
      "metadata": {
        "id": "ltzqj4Kaa07U",
        "colab": {
          "base_uri": "https://localhost:8080/"
        },
        "outputId": "f2b78e27-5546-4ee5-fdfb-4a1866bb015f"
      },
      "source": [
        "device_name = test.gpu_device_name()\n",
        "if device_name != '/device:GPU:0':\n",
        "  print(\n",
        "      '\\n\\nThis error most likely means that this notebook is not '\n",
        "      'configured to use a GPU.  Change this in Notebook Settings via the '\n",
        "      'command palette (cmd/ctrl-shift-P) or the Edit menu.\\n\\n')\n",
        "  raise SystemError('GPU device not found')\n",
        "\n",
        "with device('/device:GPU:0'):\n",
        "  m.fit(imdb_x_train_padded, imdb_y_train, epochs=1, batch_size=64)"
      ],
      "execution_count": 50,
      "outputs": [
        {
          "output_type": "stream",
          "text": [
            "391/391 [==============================] - 51s 124ms/step - loss: 0.5452 - binary_accuracy: 0.6949\n"
          ],
          "name": "stdout"
        }
      ]
    },
    {
      "cell_type": "code",
      "metadata": {
        "id": "DO6zsWBja07t",
        "colab": {
          "base_uri": "https://localhost:8080/"
        },
        "outputId": "dd4880ca-f91b-4c8b-d713-cd53594d0620"
      },
      "source": [
        "with device('/device:GPU:0'):\n",
        "  ms = m.evaluate(imdb_x_test_padded, imdb_y_test)\n",
        "  print('loss: {} accuracy: {}'.format(*ms))"
      ],
      "execution_count": 51,
      "outputs": [
        {
          "output_type": "stream",
          "text": [
            "782/782 [==============================] - 14s 17ms/step - loss: 0.3323 - binary_accuracy: 0.8664\n",
            "loss: 0.3322821855545044 accuracy: 0.8664000034332275\n"
          ],
          "name": "stdout"
        }
      ]
    },
    {
      "cell_type": "code",
      "metadata": {
        "id": "Dz9hy7moa078"
      },
      "source": [
        ""
      ],
      "execution_count": null,
      "outputs": []
    },
    {
      "cell_type": "markdown",
      "metadata": {
        "id": "nyZbljLAa09z"
      },
      "source": [
        "# Exercise Option #2 - Advanced Difficulty\n",
        "\n",
        "Set up your own RNN model for the Reuters Classification Problem\n",
        "\n",
        "Take the model from exercise 1 (imdb_lstm_model) and modify it to classify the [Reuters data](https://keras.io/datasets/#reuters-newswire-topics-classification).\n",
        "\n",
        "Think about what you are trying to predict in this case, and how you will have to change your model to deal with this."
      ]
    },
    {
      "cell_type": "code",
      "metadata": {
        "id": "zI9p998Ra090"
      },
      "source": [
        "from tensorflow.keras.datasets import reuters\n",
        "from tensorflow.keras.preprocessing import sequence\n",
        "from tensorflow.keras.models import Sequential\n",
        "from tensorflow.keras.layers import Embedding, LSTM, Dense\n",
        "from tensorflow.keras.utils import to_categorical"
      ],
      "execution_count": 63,
      "outputs": []
    },
    {
      "cell_type": "code",
      "metadata": {
        "id": "-OR-J3MWa095",
        "colab": {
          "base_uri": "https://localhost:8080/"
        },
        "outputId": "06fac2d8-eb01-4356-b32b-e758dd213df3"
      },
      "source": [
        "(r_x_train, r_y_train), (r_x_test, r_y_test) = reuters.load_data()\n",
        "r_y_train = to_categorical(r_y_train)\n",
        "r_y_test = to_categorical(r_y_test)"
      ],
      "execution_count": 64,
      "outputs": [
        {
          "output_type": "stream",
          "text": [
            "/usr/local/lib/python3.7/dist-packages/tensorflow/python/keras/datasets/reuters.py:148: VisibleDeprecationWarning: Creating an ndarray from ragged nested sequences (which is a list-or-tuple of lists-or-tuples-or ndarrays with different lengths or shapes) is deprecated. If you meant to do this, you must specify 'dtype=object' when creating the ndarray\n",
            "  x_train, y_train = np.array(xs[:idx]), np.array(labels[:idx])\n",
            "/usr/local/lib/python3.7/dist-packages/tensorflow/python/keras/datasets/reuters.py:149: VisibleDeprecationWarning: Creating an ndarray from ragged nested sequences (which is a list-or-tuple of lists-or-tuples-or ndarrays with different lengths or shapes) is deprecated. If you meant to do this, you must specify 'dtype=object' when creating the ndarray\n",
            "  x_test, y_test = np.array(xs[idx:]), np.array(labels[idx:])\n"
          ],
          "name": "stderr"
        }
      ]
    },
    {
      "cell_type": "code",
      "metadata": {
        "id": "MiW4Vhgpa098"
      },
      "source": [
        "rcutoff = 500\n",
        "r_x_train_padded = sequence.pad_sequences(r_x_train, maxlen=rcutoff)\n",
        "r_x_test_padded = sequence.pad_sequences(r_x_test, maxlen=rcutoff)\n",
        "r_index_offset = 3"
      ],
      "execution_count": 65,
      "outputs": []
    },
    {
      "cell_type": "markdown",
      "metadata": {
        "id": "6aV__ANcCbtG"
      },
      "source": [
        "`high score (with many epochs): 0.6335`"
      ]
    },
    {
      "cell_type": "code",
      "metadata": {
        "id": "uYmb0IySa0-B"
      },
      "source": [
        "r = Sequential()\n",
        "r.add(Embedding(input_dim=len(reuters.get_word_index()) + r_index_offset,\n",
        "                              output_dim=100,\n",
        "                              input_length=cutoff))\n",
        "r.add(LSTM(units=16, return_sequences=True))\n",
        "r.add(LSTM(units=32))\n",
        " \n",
        "r.add(Dense(units=46, activation='sigmoid')) \n",
        "r.compile(loss='categorical_crossentropy', optimizer='Nadam', metrics=['categorical_accuracy'])"
      ],
      "execution_count": 121,
      "outputs": []
    },
    {
      "cell_type": "code",
      "metadata": {
        "colab": {
          "base_uri": "https://localhost:8080/"
        },
        "id": "6_GBjpiF9aUG",
        "outputId": "e101ca43-d858-4330-90c4-ef2b47ff6965"
      },
      "source": [
        "device_name = test.gpu_device_name()\n",
        "if device_name != '/device:GPU:0':\n",
        "  print(\n",
        "      '\\n\\nThis error most likely means that this notebook is not '\n",
        "      'configured to use a GPU.  Change this in Notebook Settings via the '\n",
        "      'command palette (cmd/ctrl-shift-P) or the Edit menu.\\n\\n')\n",
        "  raise SystemError('GPU device not found')\n",
        "\n",
        "with device('/device:GPU:0'):\n",
        "  r.fit(r_x_train_padded, r_y_train, epochs=10, batch_size=64)\n",
        "\n",
        "with device('/device:GPU:0'):\n",
        "  rs = r.evaluate(r_x_test_padded, r_y_test)\n",
        "  print('loss: {} accuracy: {}'.format(*rs))"
      ],
      "execution_count": 126,
      "outputs": [
        {
          "output_type": "stream",
          "text": [
            "Epoch 1/10\n",
            "141/141 [==============================] - 9s 62ms/step - loss: 0.6164 - categorical_accuracy: 0.8537\n",
            "Epoch 2/10\n",
            "141/141 [==============================] - 9s 62ms/step - loss: 0.5929 - categorical_accuracy: 0.8563\n",
            "Epoch 3/10\n",
            "141/141 [==============================] - 9s 61ms/step - loss: 0.5635 - categorical_accuracy: 0.8632\n",
            "Epoch 4/10\n",
            "141/141 [==============================] - 9s 62ms/step - loss: 0.5410 - categorical_accuracy: 0.8672\n",
            "Epoch 5/10\n",
            "141/141 [==============================] - 9s 61ms/step - loss: 0.4924 - categorical_accuracy: 0.8821\n",
            "Epoch 6/10\n",
            "141/141 [==============================] - 9s 62ms/step - loss: 0.4562 - categorical_accuracy: 0.8906\n",
            "Epoch 7/10\n",
            "141/141 [==============================] - 9s 62ms/step - loss: 0.4361 - categorical_accuracy: 0.8960\n",
            "Epoch 8/10\n",
            "141/141 [==============================] - 9s 61ms/step - loss: 0.4174 - categorical_accuracy: 0.8998\n",
            "Epoch 9/10\n",
            "141/141 [==============================] - 9s 61ms/step - loss: 0.4184 - categorical_accuracy: 0.9007\n",
            "Epoch 10/10\n",
            "141/141 [==============================] - 9s 62ms/step - loss: 0.3925 - categorical_accuracy: 0.9053\n",
            "71/71 [==============================] - 1s 18ms/step - loss: 1.9578 - categorical_accuracy: 0.6336\n",
            "loss: 1.9577536582946777 accuracy: 0.6335707902908325\n"
          ],
          "name": "stdout"
        }
      ]
    },
    {
      "cell_type": "code",
      "metadata": {
        "id": "DIjZG2Kx9saW"
      },
      "source": [
        ""
      ],
      "execution_count": null,
      "outputs": []
    }
  ]
}